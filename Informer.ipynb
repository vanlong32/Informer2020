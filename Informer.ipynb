{
  "nbformat": 4,
  "nbformat_minor": 2,
  "metadata": {
    "colab": {
      "name": "Bản sao của Informer.ipynb",
      "provenance": [],
      "collapsed_sections": [
        "EnePVyrW4I14",
        "cNhEP_7sAgqC",
        "Ew9vekI9Mw8f"
      ]
    },
    "kernelspec": {
      "name": "python3",
      "display_name": "Python 3.7.8rc1 64-bit"
    },
    "language_info": {
      "name": "python",
      "version": "3.7.8rc1",
      "mimetype": "text/x-python",
      "codemirror_mode": {
        "name": "ipython",
        "version": 3
      },
      "pygments_lexer": "ipython3",
      "nbconvert_exporter": "python",
      "file_extension": ".py"
    },
    "interpreter": {
      "hash": "ecf688f7522fbea409ec7dad501f05053903d30b386f6debc3468b61f6ea702b"
    }
  },
  "cells": [
    {
      "cell_type": "markdown",
      "source": [
        "## Informer Demo"
      ],
      "metadata": {
        "id": "5IM6CZzW_CH0"
      }
    },
    {
      "cell_type": "code",
      "execution_count": 1,
      "source": [
        "!python -v"
      ],
      "outputs": [],
      "metadata": {
        "id": "9t6MMhkFULI9",
        "colab": {
          "base_uri": "https://localhost:8080/"
        },
        "outputId": "1c13eea0-31c1-401f-9e4f-6343fc10fa35"
      }
    },
    {
      "cell_type": "markdown",
      "source": [
        "## Download code and dataset"
      ],
      "metadata": {
        "id": "kdaIHYx4_ECL"
      }
    },
    {
      "cell_type": "code",
      "execution_count": null,
      "source": [
        "!git clone https://github.com/zhouhaoyi/Informer2020.git\r\n",
        "!git clone https://github.com/vanlong32/ETDataset.git\r\n",
        "!ls"
      ],
      "outputs": [
        {
          "output_type": "stream",
          "name": "stdout",
          "text": [
            "fatal: destination path 'Informer2020' already exists and is not an empty directory.\n",
            "fatal: destination path 'ETDataset' already exists and is not an empty directory.\n",
            "ETDataset  Informer2020  informer_checkpoints  sample_data\n"
          ]
        }
      ],
      "metadata": {
        "colab": {
          "base_uri": "https://localhost:8080/"
        },
        "id": "SA_i2gbl-rn-",
        "outputId": "70956496-383b-4ce5-bc2b-bbf73eb04b9d"
      }
    },
    {
      "cell_type": "code",
      "execution_count": null,
      "source": [
        "# Module sys trong Python cung cấp các hàm và các biến được sử dụng để thao tác các phần khác nhau của môi trường chạy Python.\r\n",
        "# Nó cho phép chúng ta truy cập các tham số và chức năng cụ thể của hệ thống.\r\n",
        "import sys\r\n",
        "\r\n",
        "# nếu không tìm thấy thư mục Informer2020 thì sửa lại đường dẫn\r\n",
        "if not 'Informer2020' in sys.path:\r\n",
        "    sys.path += ['Informer2020']"
      ],
      "outputs": [],
      "metadata": {
        "id": "b5GFng7v7Eq0"
      }
    },
    {
      "cell_type": "code",
      "execution_count": null,
      "source": [
        "# cài này dùng để cài tất cả thư viện cần thiết\r\n",
        "# !pip install -r ./Informer2020/requirements.txt"
      ],
      "outputs": [],
      "metadata": {
        "id": "YW9TS6jp_YXc"
      }
    },
    {
      "cell_type": "markdown",
      "source": [
        "## Thí nghiệm: Train and Test"
      ],
      "metadata": {
        "id": "rIjZdN5e_SWe"
      }
    },
    {
      "cell_type": "code",
      "execution_count": null,
      "source": [
        "# nhập từ tư viện informer2000, không biết để làm gì \r\n",
        "from utils.tools import dotdict\r\n",
        "\r\n",
        "# nhập từ tư viện informer2000, không biết để làm gì \r\n",
        "from exp.exp_informer import Exp_Informer\r\n",
        "\r\n",
        "# nhập thư viện PyTorch là một framework được xây dựng dựa trên python cung cấp nền tảng \r\n",
        "# tính toán khoa học phục vụ lĩnh vực Deep learning\r\n",
        "import torch"
      ],
      "outputs": [],
      "metadata": {
        "id": "RPdt-Kwc_RRZ"
      }
    },
    {
      "cell_type": "code",
      "execution_count": null,
      "source": [
        "args = dotdict()\r\n",
        "\r\n",
        "args.model = 'informer' # model của thử nghiệm, tùy chọn: [informer, informerstack, informerlight(TBD)]\r\n",
        "\r\n",
        "args.data = 'ETTh2' # data\r\n",
        "args.root_path = './ETDataset/ETT-small/' # root path of data file\r\n",
        "\r\n",
        "# ETT là bộ dữ liệu của nhà máy điện\r\n",
        "# ETTm1.csv, ETTm2.csv là Bộ dữ liệu ghi theo phút  (ký hiệu m)\r\n",
        "# ETTh1.csv, ETTh2.csv là Bộ dữ liệu ghi theo giờ (ký hiệu bằng h)\r\n",
        "args.data_path = 'ETTh2.csv' \r\n",
        "\r\n",
        "\r\n",
        "# forecasting task, tùy chọn:[M, S, MS]; \r\n",
        "#   - M:multivariate predict multivariate (đa biến dự đoán đa biến)\r\n",
        "#   - S:univariate predict univariate (đơn biến dự đoán đơn biến)\r\n",
        "#   - MS:multivariate predict univariate (dự đoán đa biến đơn biến)\r\n",
        "\r\n",
        "args.features = 'M' \r\n",
        "\r\n",
        "# lựa chọn mục tiêu trong chế độ S or MS task\r\n",
        "args.target = 'OT' \r\n",
        "\r\n",
        "# freq for time features encoding (tần số cho nhiệm vụ dự đoán)\r\n",
        "#   tùy chọn :[s:secondly, t:minutely, h:hourly, d:daily, b:business days, w:weekly, m:monthly], \r\n",
        "#   bạn cũng có thể sử dụng freq chi tiết hơn như 15 phút hoặc 3 giờ\r\n",
        "\r\n",
        "args.freq = 'h' \r\n",
        "\r\n",
        "# Cài vị trí lưu model checkpoints\r\n",
        "args.checkpoints = './informer_checkpoints' \r\n",
        "\r\n",
        "# input sequence length of Informer encoder (độ dài chuỗi đầu vào của bộ mã hóa Informer)\r\n",
        "args.seq_len = 96 \r\n",
        "\r\n",
        "# start token length of Informer decoder (độ dài mã thông báo bắt đầu của bộ giải mã Inform)\r\n",
        "args.label_len = 48 \r\n",
        "\r\n",
        "# prediction sequence length (độ dài chuỗi dự đoán)\r\n",
        "args.pred_len = 24\r\n",
        "\r\n",
        "\r\n",
        "\r\n",
        "# Informer decoder input: concat[start token series(label_len), zero padding series(pred_len)]\r\n",
        "\r\n",
        "args.enc_in = 7 # encoder input size\r\n",
        "args.dec_in = 7 # decoder input size\r\n",
        "args.c_out = 7 # output size\r\n",
        "args.factor = 5 # probsparse attn factor (hệ số suy giảm xác suất)\r\n",
        "args.d_model = 512 # dimension of model (kích thước của mô hình)\r\n",
        "args.n_heads = 8 # num of heads\r\n",
        "args.e_layers = 2 # num of encoder layers\r\n",
        "args.d_layers = 1 # num of decoder layers\r\n",
        "args.d_ff = 2048 # dimension of fcn in model\r\n",
        "args.dropout = 0.05 # dropout\r\n",
        "args.attn = 'prob' # attention (chú ý) used in encoder, options:[prob, full]\r\n",
        "args.embed = 'timeF' # time features encoding (tính năng mã hóa thời gian), options:[timeF, fixed, learned]\r\n",
        "args.activation = 'gelu' # activation (activation)\r\n",
        "args.distil = True # whether to use distilling in encoder (có nên sử dụng phương pháp chưng cất trong bộ mã hóa không)\r\n",
        "args.output_attention = False # whether to output attention in ecoder (có tạo sự chú ý trong bộ sinh thái không)\r\n",
        "args.mix = True\r\n",
        "args.padding = 0\r\n",
        "args.freq = 'h'\r\n",
        "\r\n",
        "args.batch_size = 32 \r\n",
        "args.learning_rate = 0.0001\r\n",
        "args.loss = 'mse'\r\n",
        "args.lradj = 'type1'\r\n",
        "args.use_amp = False # whether to use automatic mixed precision training\r\n",
        "\r\n",
        "args.num_workers = 0\r\n",
        "args.itr = 1\r\n",
        "args.train_epochs = 6\r\n",
        "args.patience = 3\r\n",
        "args.des = 'exp'\r\n",
        "\r\n",
        "args.use_gpu = True if torch.cuda.is_available() else False\r\n",
        "args.gpu = 0\r\n",
        "\r\n",
        "args.use_multi_gpu = False\r\n",
        "args.devices = '0,1,2,3'\r\n"
      ],
      "outputs": [],
      "metadata": {
        "id": "6mx2dnwY9dWi"
      }
    },
    {
      "cell_type": "code",
      "execution_count": null,
      "source": [
        "args.use_gpu = True if torch.cuda.is_available() and args.use_gpu else False\n",
        "\n",
        "if args.use_gpu and args.use_multi_gpu:\n",
        "    args.devices = args.devices.replace(' ','')\n",
        "    device_ids = args.devices.split(',')\n",
        "    args.device_ids = [int(id_) for id_ in device_ids]\n",
        "    args.gpu = args.device_ids[0]"
      ],
      "outputs": [],
      "metadata": {
        "id": "k_BCYODAwKl9"
      }
    },
    {
      "cell_type": "code",
      "execution_count": null,
      "source": [
        "# Set augments by using data name\n",
        "data_parser = {\n",
        "    'ETTh1':{'data':'ETTh1.csv','T':'OT','M':[7,7,7],'S':[1,1,1],'MS':[7,7,1]},\n",
        "    'ETTh2':{'data':'ETTh2.csv','T':'OT','M':[7,7,7],'S':[1,1,1],'MS':[7,7,1]},\n",
        "    'ETTm1':{'data':'ETTm1.csv','T':'OT','M':[7,7,7],'S':[1,1,1],'MS':[7,7,1]},\n",
        "    'ETTm2':{'data':'ETTm2.csv','T':'OT','M':[7,7,7],'S':[1,1,1],'MS':[7,7,1]},\n",
        "}\n",
        "\n",
        "# Date,Open,High,Low,Close,Adj Close,Volume\n",
        "# data: nhập tên data\n",
        "# T: là tên cột lựa chọn làm mục tiêu dự đoán\n",
        "# M\n",
        "#data_parser = {\n",
        "#     'BTC-USD':{'data':'BTC-USD.csv','T':'Close','M':[7,7,7],'S':[1,1,1],'MS':[7,7,1]}\n",
        "#}\n",
        "    \n",
        "\n",
        "\n",
        "if args.data in data_parser.keys():\n",
        "    data_info = data_parser[args.data]\n",
        "    args.data_path = data_info['data']\n",
        "    args.target = data_info['T']\n",
        "    args.enc_in, args.dec_in, args.c_out = data_info[args.features]"
      ],
      "outputs": [],
      "metadata": {
        "id": "53o3pZ809p-a"
      }
    },
    {
      "cell_type": "code",
      "execution_count": null,
      "source": [
        "print(args.data)"
      ],
      "outputs": [
        {
          "output_type": "stream",
          "name": "stdout",
          "text": [
            "ETTh2\n"
          ]
        }
      ],
      "metadata": {
        "colab": {
          "base_uri": "https://localhost:8080/"
        },
        "id": "dCIr_2qucZs6",
        "outputId": "e56314b5-089d-4fb2-8a59-4b1ca7575873"
      }
    },
    {
      "cell_type": "code",
      "execution_count": null,
      "source": [
        "args.detail_freq = args.freq\n",
        "args.freq = args.freq[-1:]"
      ],
      "outputs": [],
      "metadata": {
        "id": "yZ5Q2vyKwSfk"
      }
    },
    {
      "cell_type": "code",
      "execution_count": null,
      "source": [
        "print('Args in experiment:')\n",
        "print(args)"
      ],
      "outputs": [
        {
          "output_type": "stream",
          "name": "stdout",
          "text": [
            "Args in experiment:\n",
            "{'model': 'informer', 'data': 'ETTh2', 'root_path': './ETDataset/ETT-small/', 'data_path': 'ETTh2.csv', 'features': 'M', 'target': 'OT', 'freq': 'h', 'checkpoints': './informer_checkpoints', 'seq_len': 96, 'label_len': 48, 'pred_len': 24, 'enc_in': 7, 'dec_in': 7, 'c_out': 7, 'factor': 5, 'd_model': 512, 'n_heads': 8, 'e_layers': 2, 'd_layers': 1, 'd_ff': 2048, 'dropout': 0.05, 'attn': 'prob', 'embed': 'timeF', 'activation': 'gelu', 'distil': True, 'output_attention': False, 'mix': True, 'padding': 0, 'batch_size': 32, 'learning_rate': 0.0001, 'loss': 'mse', 'lradj': 'type1', 'use_amp': False, 'num_workers': 0, 'itr': 1, 'train_epochs': 6, 'patience': 3, 'des': 'exp', 'use_gpu': False, 'gpu': 0, 'use_multi_gpu': False, 'devices': '0,1,2,3', 'detail_freq': 'h'}\n"
          ]
        }
      ],
      "metadata": {
        "colab": {
          "base_uri": "https://localhost:8080/"
        },
        "id": "ywY-umrw-mHO",
        "outputId": "7ca73913-8e6d-4803-aaeb-093657d4b537"
      }
    },
    {
      "cell_type": "code",
      "execution_count": null,
      "source": [
        "Exp = Exp_Informer"
      ],
      "outputs": [],
      "metadata": {
        "id": "KVHZhRB4-on9"
      }
    },
    {
      "cell_type": "code",
      "execution_count": null,
      "source": [
        "for ii in range(args.itr):\n",
        "    # setting record của thí nghiệm\n",
        "    setting = '{}_{}_ft{}_sl{}_ll{}_pl{}_dm{}_nh{}_el{}_dl{}_df{}_at{}_fc{}_eb{}_dt{}_mx{}_{}_{}'.format(args.model, args.data, args.features, \n",
        "                args.seq_len, args.label_len, args.pred_len,\n",
        "                args.d_model, args.n_heads, args.e_layers, args.d_layers, args.d_ff, args.attn, args.factor, args.embed, args.distil, args.mix, args.des, ii)\n",
        "\n",
        "    # set thí nghiệm\n",
        "    exp = Exp(args)\n",
        "    \n",
        "    # train\n",
        "    print('>>>>>>>start training : {}>>>>>>>>>>>>>>>>>>>>>>>>>>'.format(setting))\n",
        "    exp.train(setting)\n",
        "    \n",
        "    # test\n",
        "    print('>>>>>>>testing : {}<<<<<<<<<<<<<<<<<<<<<<<<<<<<<<<<<'.format(setting))\n",
        "    exp.test(setting)\n",
        "\n",
        "    torch.cuda.empty_cache()"
      ],
      "outputs": [
        {
          "output_type": "stream",
          "name": "stdout",
          "text": [
            "Use CPU\n",
            ">>>>>>>start training : informer_ETTh2_ftM_sl96_ll48_pl24_dm512_nh8_el2_dl1_df2048_atprob_fc5_ebtimeF_dtTrue_mxTrue_exp_0>>>>>>>>>>>>>>>>>>>>>>>>>>\n",
            "train 8521\n",
            "val 2857\n",
            "test 2857\n"
          ]
        }
      ],
      "metadata": {
        "colab": {
          "base_uri": "https://localhost:8080/"
        },
        "id": "928tzaA2AA2g",
        "outputId": "8c83cbd2-a5a4-4987-e9d9-11c3a267bfff"
      }
    },
    {
      "cell_type": "code",
      "execution_count": null,
      "source": [],
      "outputs": [],
      "metadata": {
        "id": "jCU0oJ5L_P4V"
      }
    },
    {
      "cell_type": "markdown",
      "source": [
        "## Prediction"
      ],
      "metadata": {
        "id": "CDHF-HerAE3u"
      }
    },
    {
      "cell_type": "code",
      "execution_count": null,
      "source": [
        "import os\n",
        "\n",
        "# Đường dẫn lưu mô hình\n",
        "setting = 'informer_ETTh1_ftM_sl96_ll48_pl24_dm512_nh8_el2_dl1_df2048_atprob_fc5_ebtimeF_dtTrue_mxTrue_exp_0'\n",
        "# path = os.path.join(args.checkpoints,setting,'checkpoint.pth')"
      ],
      "outputs": [],
      "metadata": {
        "id": "s0YI1zx6ACiz"
      }
    },
    {
      "cell_type": "code",
      "execution_count": null,
      "source": [
        "# If you already have a trained model, you can set the arguments and model path, then initialize a Experiment and use it to predict\n",
        "# Prediction is a sequence which is adjacent to the last date of the data, and does not exist in the data\n",
        "# If you want to get more information about prediction, you can refer to code `exp/exp_informer.py function predict()` and `data/data_loader.py class Dataset_Pred`\n",
        "\n",
        "exp = Exp(args)\n",
        "\n",
        "exp.predict(setting, True)"
      ],
      "outputs": [],
      "metadata": {
        "id": "nTkluNNcyMJt"
      }
    },
    {
      "cell_type": "code",
      "execution_count": null,
      "source": [
        "# the prediction will be saved in ./results/{setting}/real_prediction.npy\n",
        "import numpy as np\n",
        "\n",
        "prediction = np.load('./results/'+setting+'/real_prediction.npy')\n",
        "\n",
        "prediction.shape"
      ],
      "outputs": [],
      "metadata": {
        "id": "KBCPbjGuzAZb"
      }
    },
    {
      "cell_type": "markdown",
      "source": [
        "### Thông tin chi tiết về dự đoán và - prediction function"
      ],
      "metadata": {
        "id": "5yFuVkTV30_j"
      }
    },
    {
      "cell_type": "code",
      "execution_count": null,
      "source": [
        "# Đây là code chi tiết của function predict\n",
        "\n",
        "def predict(exp, setting, load=False):\n",
        "    pred_data, pred_loader = exp._get_data(flag='pred')\n",
        "        \n",
        "    if load:\n",
        "        path = os.path.join(exp.args.checkpoints, setting)\n",
        "        best_model_path = path+'/'+'checkpoint.pth'\n",
        "        exp.model.load_state_dict(torch.load(best_model_path))\n",
        "\n",
        "    exp.model.eval()\n",
        "        \n",
        "    preds = []\n",
        "        \n",
        "    for i, (batch_x,batch_y,batch_x_mark,batch_y_mark) in enumerate(pred_loader):\n",
        "        batch_x = batch_x.float().to(exp.device)\n",
        "        batch_y = batch_y.float()\n",
        "        batch_x_mark = batch_x_mark.float().to(exp.device)\n",
        "        batch_y_mark = batch_y_mark.float().to(exp.device)\n",
        "\n",
        "        # decoder input\n",
        "        if exp.args.padding==0:\n",
        "            dec_inp = torch.zeros([batch_y.shape[0], exp.args.pred_len, batch_y.shape[-1]]).float()\n",
        "        elif exp.args.padding==1:\n",
        "            dec_inp = torch.ones([batch_y.shape[0], exp.args.pred_len, batch_y.shape[-1]]).float()\n",
        "        else:\n",
        "            dec_inp = torch.zeros([batch_y.shape[0], exp.args.pred_len, batch_y.shape[-1]]).float()\n",
        "        dec_inp = torch.cat([batch_y[:,:exp.args.label_len,:], dec_inp], dim=1).float().to(exp.device)\n",
        "        # encoder - decoder\n",
        "        if exp.args.use_amp:\n",
        "            with torch.cuda.amp.autocast():\n",
        "                if exp.args.output_attention:\n",
        "                    outputs = exp.model(batch_x, batch_x_mark, dec_inp, batch_y_mark)[0]\n",
        "                else:\n",
        "                    outputs = exp.model(batch_x, batch_x_mark, dec_inp, batch_y_mark)\n",
        "        else:\n",
        "            if exp.args.output_attention:\n",
        "                outputs = exp.model(batch_x, batch_x_mark, dec_inp, batch_y_mark)[0]\n",
        "            else:\n",
        "                outputs = exp.model(batch_x, batch_x_mark, dec_inp, batch_y_mark)\n",
        "        f_dim = -1 if exp.args.features=='MS' else 0\n",
        "        batch_y = batch_y[:,-exp.args.pred_len:,f_dim:].to(exp.device)\n",
        "        \n",
        "        pred = outputs.detach().cpu().numpy()#.squeeze()\n",
        "        \n",
        "        preds.append(pred)\n",
        "\n",
        "    preds = np.array(preds)\n",
        "    preds = preds.reshape(-1, preds.shape[-2], preds.shape[-1])\n",
        "    \n",
        "    # result save\n",
        "    folder_path = './results/' + setting +'/'\n",
        "    if not os.path.exists(folder_path):\n",
        "        os.makedirs(folder_path)\n",
        "    \n",
        "    np.save(folder_path+'real_prediction.npy', preds)\n",
        "    \n",
        "    return preds\n"
      ],
      "outputs": [],
      "metadata": {
        "id": "Sv9AR_Aw030r"
      }
    },
    {
      "cell_type": "code",
      "execution_count": null,
      "source": [
        "# bạn có thể sử dụng prediction function để lấy kết quả dự đoán\n",
        "prediction = predict(exp, setting, True)"
      ],
      "outputs": [],
      "metadata": {
        "id": "tVLWZL2a1pwB"
      }
    },
    {
      "cell_type": "code",
      "execution_count": null,
      "source": [
        "import matplotlib.pyplot as plt\n",
        "\n",
        "plt.figure()\n",
        "plt.plot(prediction[0,:,-1])\n",
        "plt.show()"
      ],
      "outputs": [],
      "metadata": {
        "id": "NwtZmQC71uc8"
      }
    },
    {
      "cell_type": "markdown",
      "source": [
        "### Thêm chi tiết về Dự đoán - prediction dataset\n",
        "\n",
        "You can give a `root_path` and `data_path` of the data you want to forecast, and set `seq_len`, `label_len`, `pred_len` and other arguments as other Dataset. The difference is that you can set a more detailed freq such as `15min` or `3h` to generate the timestamp of prediction series.\n",
        "\n",
        "`Dataset_Pred` only has one sample (including `encoder_input: [1, seq_len, dim]`, `decoder_token: [1, label_len, dim]`, `encoder_input_timestamp: [1, seq_len, date_dim]`, `decoder_input_timstamp: [1, label_len+pred_len, date_dim]`). It will intercept the last sequence of the given data (seq_len data) to forecast the unseen future sequence (pred_len data).\n",
        "\n",
        "**Dịch:**\n",
        "\n",
        "Bạn có thể cung cấp đường dẫn gốc và đường dẫn dữ liệu của dữ liệu bạn muốn dự báo, đồng thời đặt seq_len, label_len, pred_len và các đối số khác làm Tập dữ liệu khác. Sự khác biệt là bạn có thể đặt tần suất chi tiết hơn chẳng hạn như 15 phút hoặc 3 giờ để tạo dấu thời gian của chuỗi dự đoán. Dataset_Pred chỉ có một mẫu (bao gồm encoder_input: [1, seq_len, dim], decoder_token: [1, label_len, dim], encoder_input_timestamp: [1, seq_len, date_dim], decoder_input_timstamp: [1, label_len + pred_len, date_dim]). Nó sẽ chặn chuỗi cuối cùng của dữ liệu đã cho (dữ liệu seq_len) để dự báo chuỗi tương lai không nhìn thấy (dữ liệu pred_len)."
      ],
      "metadata": {
        "id": "EnePVyrW4I14"
      }
    },
    {
      "cell_type": "code",
      "execution_count": null,
      "source": [
        "from data.data_loader import Dataset_Pred\n",
        "from torch.utils.data import DataLoader"
      ],
      "outputs": [],
      "metadata": {
        "id": "ZpXhNGp34Hf4"
      }
    },
    {
      "cell_type": "code",
      "execution_count": null,
      "source": [
        "Data = Dataset_Pred\n",
        "timeenc = 0 if args.embed!='timeF' else 1\n",
        "flag = 'pred'; shuffle_flag = False; drop_last = False; batch_size = 1\n",
        "\n",
        "freq = args.detail_freq\n",
        "\n",
        "data_set = Data(\n",
        "    root_path=args.root_path,\n",
        "    data_path=args.data_path,\n",
        "    flag=flag,\n",
        "    size=[args.seq_len, args.label_len, args.pred_len],\n",
        "    features=args.features,\n",
        "    target=args.target,\n",
        "    timeenc=timeenc,\n",
        "    freq=freq\n",
        ")\n",
        "data_loader = DataLoader(\n",
        "    data_set,\n",
        "    batch_size=batch_size,\n",
        "    shuffle=shuffle_flag,\n",
        "    num_workers=args.num_workers,\n",
        "    drop_last=drop_last)"
      ],
      "outputs": [],
      "metadata": {
        "id": "j4Rpd1q74T8N"
      }
    },
    {
      "cell_type": "code",
      "execution_count": null,
      "source": [
        "len(data_set), len(data_loader)"
      ],
      "outputs": [],
      "metadata": {
        "id": "42C84BfY6UPV"
      }
    },
    {
      "cell_type": "markdown",
      "source": [
        "## Visualization - Biểu đồ dữ liệu"
      ],
      "metadata": {
        "id": "cNhEP_7sAgqC"
      }
    },
    {
      "cell_type": "code",
      "execution_count": null,
      "source": [
        "# When we finished exp.train(setting) and exp.test(setting), we will get a trained model and the results of test experiment\n",
        "# Dịch: Khi chúng tôi hoàn thành exp.train (cài đặt) và exp.test (cài đặt), chúng tôi sẽ nhận được một mô hình được đào tạo và kết quả của thử nghiệm kiểm tra\n",
        "# The results of test experiment will be saved in ./results/{setting}/pred.npy (prediction of test dataset) and ./results/{setting}/true.npy (groundtruth of test dataset)\n",
        "\n",
        "preds = np.load('./results/'+setting+'/pred.npy')\n",
        "trues = np.load('./results/'+setting+'/true.npy')\n",
        "\n",
        "# [samples, pred_len, dimensions]\n",
        "preds.shape, trues.shape"
      ],
      "outputs": [],
      "metadata": {
        "id": "vMRk8VkQ2Iko"
      }
    },
    {
      "cell_type": "code",
      "execution_count": null,
      "source": [
        "import matplotlib.pyplot as plt\n",
        "import seaborn as sns"
      ],
      "outputs": [],
      "metadata": {
        "id": "ZEGhDOmxAeAb"
      }
    },
    {
      "cell_type": "code",
      "execution_count": null,
      "source": [
        "# draw OT prediction\n",
        "plt.figure()\n",
        "plt.plot(trues[0,:,-1], label='GroundTruth')\n",
        "plt.plot(preds[0,:,-1], label='Prediction')\n",
        "plt.legend()\n",
        "plt.show()"
      ],
      "outputs": [],
      "metadata": {
        "id": "kyPuOPGAAjl3"
      }
    },
    {
      "cell_type": "code",
      "execution_count": null,
      "source": [
        "# draw HUFL prediction\n",
        "plt.figure()\n",
        "plt.plot(trues[0,:,0], label='GroundTruth')\n",
        "plt.plot(preds[0,:,0], label='Prediction')\n",
        "plt.legend()\n",
        "plt.show()"
      ],
      "outputs": [],
      "metadata": {
        "id": "43MIgWfpMYIB"
      }
    },
    {
      "cell_type": "code",
      "execution_count": null,
      "source": [
        "from data.data_loader import Dataset_ETT_hour\n",
        "from torch.utils.data import DataLoader\n",
        "\n",
        "Data = Dataset_ETT_hour\n",
        "timeenc = 0 if args.embed!='timeF' else 1\n",
        "flag = 'test'; shuffle_flag = False; drop_last = True; batch_size = 1\n",
        "\n",
        "data_set = Data(\n",
        "    root_path=args.root_path,\n",
        "    data_path=args.data_path,\n",
        "    flag=flag,\n",
        "    size=[args.seq_len, args.label_len, args.pred_len],\n",
        "    features=args.features,\n",
        "    timeenc=timeenc,\n",
        "    freq=args.freq\n",
        ")\n",
        "data_loader = DataLoader(\n",
        "    data_set,\n",
        "    batch_size=batch_size,\n",
        "    shuffle=shuffle_flag,\n",
        "    num_workers=args.num_workers,\n",
        "    drop_last=drop_last)"
      ],
      "outputs": [],
      "metadata": {
        "id": "hKmqhCfmt0xd"
      }
    },
    {
      "cell_type": "code",
      "execution_count": null,
      "source": [
        "import os\n",
        "\n",
        "args.output_attention = True\n",
        "\n",
        "exp = Exp(args)\n",
        "\n",
        "model = exp.model\n",
        "\n",
        "setting = 'informer_ETTh1_ftM_sl96_ll48_pl24_dm512_nh8_el2_dl1_df2048_atprob_fc5_ebtimeF_dtTrue_mxTrue_exp_0'\n",
        "path = os.path.join(args.checkpoints,setting,'checkpoint.pth')\n",
        "model.load_state_dict(torch.load(path))"
      ],
      "outputs": [],
      "metadata": {
        "id": "iflTTl0quCoK"
      }
    },
    {
      "cell_type": "code",
      "execution_count": null,
      "source": [
        "# attention visualization\n",
        "idx = 0\n",
        "for i, (batch_x,batch_y,batch_x_mark,batch_y_mark) in enumerate(data_loader):\n",
        "    if i!=idx:\n",
        "        continue\n",
        "    batch_x = batch_x.float().to(exp.device)\n",
        "    batch_y = batch_y.float()\n",
        "\n",
        "    batch_x_mark = batch_x_mark.float().to(exp.device)\n",
        "    batch_y_mark = batch_y_mark.float().to(exp.device)\n",
        "    \n",
        "    dec_inp = torch.zeros_like(batch_y[:,-args.pred_len:,:]).float()\n",
        "    dec_inp = torch.cat([batch_y[:,:args.label_len,:], dec_inp], dim=1).float().to(exp.device)\n",
        "    \n",
        "    outputs,attn = model(batch_x, batch_x_mark, dec_inp, batch_y_mark)"
      ],
      "outputs": [],
      "metadata": {
        "id": "lDdzqm9HAk2C"
      }
    },
    {
      "cell_type": "code",
      "execution_count": null,
      "source": [
        "attn[0].shape, attn[1].shape #, attn[2].shape"
      ],
      "outputs": [],
      "metadata": {
        "id": "hWef23vWAmUz"
      }
    },
    {
      "cell_type": "code",
      "execution_count": null,
      "source": [
        "layer = 0\n",
        "distil = 'Distil' if args.distil else 'NoDistil'\n",
        "for h in range(0,8):\n",
        "    plt.figure(figsize=[10,8])\n",
        "    plt.title('Informer, {}, attn:{} layer:{} head:{}'.format(distil, args.attn, layer, h))\n",
        "    A = attn[layer][0,h].detach().cpu().numpy()\n",
        "    ax = sns.heatmap(A, vmin=0, vmax=A.max()+0.01)\n",
        "    plt.show()"
      ],
      "outputs": [],
      "metadata": {
        "id": "iZDH1fZgAnrl"
      }
    },
    {
      "cell_type": "code",
      "execution_count": null,
      "source": [
        "layer = 1\n",
        "distil = 'Distil' if args.distil else 'NoDistil'\n",
        "for h in range(0,8):\n",
        "    plt.figure(figsize=[10,8])\n",
        "    plt.title('Informer, {}, attn:{} layer:{} head:{}'.format(distil, args.attn, layer, h))\n",
        "    A = attn[layer][0,h].detach().cpu().numpy()\n",
        "    ax = sns.heatmap(A, vmin=0, vmax=A.max()+0.01)\n",
        "    plt.show()"
      ],
      "outputs": [],
      "metadata": {
        "id": "DQFGYE3KAozo"
      }
    },
    {
      "cell_type": "markdown",
      "source": [
        "## Custom Data - Tùy chỉnh dữ liệu\n",
        "\n",
        "Custom data (xxx.csv) has to include at least 2 features: `date`(format: `YYYY-MM-DD hh:mm:ss`) and `target feature`.\n",
        "\n",
        "Dịch: Dữ liệu tùy chỉnh (xxx.csv) phải bao gồm ít nhất 2 tính năng: ngày (định dạng: YYYY-MM-DD hh: mm: ss) và tính năng mục tiêu."
      ],
      "metadata": {
        "id": "Ew9vekI9Mw8f"
      }
    },
    {
      "cell_type": "code",
      "execution_count": null,
      "source": [
        "from data.data_loader import Dataset_Custom\n",
        "from torch.utils.data import DataLoader\n",
        "import pandas as pd\n",
        "import os"
      ],
      "outputs": [],
      "metadata": {
        "id": "qqQBJWHeMzP-"
      }
    },
    {
      "cell_type": "code",
      "execution_count": null,
      "source": [
        "# custom data: xxx.csv\n",
        "# data features: ['date', ...(other features), target feature]\n",
        "\n",
        "# we take ETTh2 as an example\n",
        "args.root_path = './ETDataset/ETT-small/'\n",
        "args.data_path = 'ETTh2.csv'\n",
        "\n",
        "df = pd.read_csv(os.path.join(args.root_path, args.data_path))"
      ],
      "outputs": [],
      "metadata": {
        "id": "5bFrfuw6Oxpi"
      }
    },
    {
      "cell_type": "code",
      "execution_count": null,
      "source": [
        "df.head()"
      ],
      "outputs": [],
      "metadata": {
        "id": "0--9JC0eO_WT"
      }
    },
    {
      "cell_type": "code",
      "execution_count": null,
      "source": [
        "'''\n",
        "We set 'HULL' as target instead of 'OT'\n",
        "\n",
        "The following frequencies are supported:\n",
        "        Y   - yearly\n",
        "            alias: A\n",
        "        M   - monthly\n",
        "        W   - weekly\n",
        "        D   - daily\n",
        "        B   - business days\n",
        "        H   - hourly\n",
        "        T   - minutely\n",
        "            alias: min\n",
        "        S   - secondly\n",
        "'''\n",
        "\n",
        "args.target = 'HULL'\n",
        "args.freq = 'h'\n",
        "\n",
        "Data = Dataset_Custom\n",
        "timeenc = 0 if args.embed!='timeF' else 1\n",
        "flag = 'test'; shuffle_flag = False; drop_last = True; batch_size = 1\n",
        "\n",
        "data_set = Data(\n",
        "    root_path=args.root_path,\n",
        "    data_path=args.data_path,\n",
        "    flag=flag,\n",
        "    size=[args.seq_len, args.label_len, args.pred_len],\n",
        "    features=args.features,\n",
        "    timeenc=timeenc,\n",
        "    target=args.target, # HULL here\n",
        "    freq=args.freq # 'h': hourly, 't':minutely\n",
        ")\n",
        "data_loader = DataLoader(\n",
        "    data_set,\n",
        "    batch_size=batch_size,\n",
        "    shuffle=shuffle_flag,\n",
        "    num_workers=args.num_workers,\n",
        "    drop_last=drop_last)"
      ],
      "outputs": [],
      "metadata": {
        "id": "QmvRipRbPAbP"
      }
    },
    {
      "cell_type": "code",
      "execution_count": null,
      "source": [
        "batch_x,batch_y,batch_x_mark,batch_y_mark = data_set[0]"
      ],
      "outputs": [],
      "metadata": {
        "id": "IkNDT2jMPCUf"
      }
    },
    {
      "cell_type": "code",
      "execution_count": null,
      "source": [],
      "outputs": [],
      "metadata": {
        "id": "VUcvSLlkSFTx"
      }
    }
  ]
}