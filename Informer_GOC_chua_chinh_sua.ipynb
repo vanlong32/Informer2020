{
  "nbformat": 4,
  "nbformat_minor": 2,
  "metadata": {
    "colab": {
      "name": "Informer.ipynb",
      "provenance": [],
      "collapsed_sections": []
    },
    "kernelspec": {
      "name": "python3",
      "display_name": "Python 3.7.8rc1 64-bit"
    },
    "accelerator": "GPU",
    "language_info": {
      "name": "python",
      "version": "3.7.8rc1",
      "mimetype": "text/x-python",
      "codemirror_mode": {
        "name": "ipython",
        "version": 3
      },
      "pygments_lexer": "ipython3",
      "nbconvert_exporter": "python",
      "file_extension": ".py"
    },
    "interpreter": {
      "hash": "ecf688f7522fbea409ec7dad501f05053903d30b386f6debc3468b61f6ea702b"
    }
  },
  "cells": [
    {
      "cell_type": "markdown",
      "source": [
        "# Informer Demo"
      ],
      "metadata": {
        "id": "5IM6CZzW_CH0"
      }
    },
    {
      "cell_type": "markdown",
      "source": [
        "## Download code and dataset"
      ],
      "metadata": {
        "id": "kdaIHYx4_ECL"
      }
    },
    {
      "cell_type": "code",
      "execution_count": null,
      "source": [
        "#!git clone https://github.com/zhouhaoyi/Informer2020.git\r\n",
        "#!git clone https://github.com/zhouhaoyi/ETDataset.git\r\n",
        "#!ls"
      ],
      "outputs": [],
      "metadata": {
        "colab": {
          "base_uri": "https://localhost:8080/"
        },
        "id": "SA_i2gbl-rn-",
        "outputId": "41dadbf7-6be2-423c-ed51-1e321f42be68"
      }
    },
    {
      "cell_type": "code",
      "execution_count": 1,
      "source": [
        "import sys\r\n",
        "if not 'Informer2020' in sys.path:\r\n",
        "    sys.path += ['Informer2020']"
      ],
      "outputs": [],
      "metadata": {
        "id": "b5GFng7v7Eq0"
      }
    },
    {
      "cell_type": "code",
      "execution_count": null,
      "source": [
        "# !pip install -r ./Informer2020/requirements.txt"
      ],
      "outputs": [],
      "metadata": {
        "id": "YW9TS6jp_YXc"
      }
    },
    {
      "cell_type": "markdown",
      "source": [
        "## Experiments: Train and Test"
      ],
      "metadata": {
        "id": "rIjZdN5e_SWe"
      }
    },
    {
      "cell_type": "code",
      "execution_count": 2,
      "source": [
        "from utils.tools import dotdict\r\n",
        "from exp.exp_informer import Exp_Informer\r\n",
        "import torch"
      ],
      "outputs": [],
      "metadata": {
        "id": "RPdt-Kwc_RRZ"
      }
    },
    {
      "cell_type": "code",
      "execution_count": 3,
      "source": [
        "args = dotdict()\r\n",
        "\r\n",
        "args.model = 'informer' # model of experiment, options: [informer, informerstack, informerlight(TBD)]\r\n",
        "\r\n",
        "args.data = 'ETTh1' # data\r\n",
        "args.root_path = './ETDataset/ETT-small/' # root path of data file\r\n",
        "args.data_path = 'ETTh1.csv' # data file\r\n",
        "args.features = 'MS' # forecasting task, options:[M, S, MS]; M:multivariate predict multivariate, S:univariate predict univariate, MS:multivariate predict univariate\r\n",
        "args.target = 'OT' # target feature in S or MS task\r\n",
        "args.freq = 'h' # freq for time features encoding, options:[s:secondly, t:minutely, h:hourly, d:daily, b:business days, w:weekly, m:monthly], you can also use more detailed freq like 15min or 3h\r\n",
        "args.checkpoints = './informer_checkpoints' # location of model checkpoints\r\n",
        "\r\n",
        "args.seq_len = 96 # input sequence length of Informer encoder\r\n",
        "args.label_len = 48 # start token length of Informer decoder\r\n",
        "args.pred_len = 24 # prediction sequence length\r\n",
        "# Informer decoder input: concat[start token series(label_len), zero padding series(pred_len)]\r\n",
        "\r\n",
        "args.enc_in = 7 # encoder input size\r\n",
        "args.dec_in = 7 # decoder input size\r\n",
        "args.c_out = 7 # output size\r\n",
        "args.factor = 5 # probsparse attn factor\r\n",
        "args.d_model = 1024 # dimension of model\r\n",
        "args.n_heads = 8 # num of heads\r\n",
        "args.e_layers = 2 # num of encoder layers\r\n",
        "args.d_layers = 1 # num of decoder layers\r\n",
        "args.d_ff = 2048 # dimension of fcn in model\r\n",
        "args.dropout = 0.05 # dropout\r\n",
        "args.attn = 'prob' # attention used in encoder, options:[prob, full]\r\n",
        "args.embed = 'timeF' # time features encoding, options:[timeF, fixed, learned]\r\n",
        "args.activation = 'gelu' # activation\r\n",
        "args.distil = True # whether to use distilling in encoder\r\n",
        "args.output_attention = False # whether to output attention in ecoder\r\n",
        "args.mix = True\r\n",
        "args.padding = 0\r\n",
        "\r\n",
        "args.batch_size = 32 \r\n",
        "args.learning_rate = 0.0001\r\n",
        "args.loss = 'mse'\r\n",
        "args.lradj = 'type1'\r\n",
        "args.use_amp = False # whether to use automatic mixed precision training\r\n",
        "\r\n",
        "args.num_workers = 0\r\n",
        "args.itr = 1\r\n",
        "args.train_epochs = 3\r\n",
        "args.patience = 3\r\n",
        "args.des = 'exp'\r\n",
        "\r\n",
        "args.use_gpu = True if torch.cuda.is_available() else False\r\n",
        "args.gpu = 0\r\n",
        "\r\n",
        "args.use_multi_gpu = False\r\n",
        "args.devices = '0,1,2,3'\r\n"
      ],
      "outputs": [],
      "metadata": {
        "id": "6mx2dnwY9dWi"
      }
    },
    {
      "cell_type": "code",
      "execution_count": 4,
      "source": [
        "args.use_gpu = True if torch.cuda.is_available() and args.use_gpu else False\r\n",
        "\r\n",
        "if args.use_gpu and args.use_multi_gpu:\r\n",
        "    args.devices = args.devices.replace(' ','')\r\n",
        "    device_ids = args.devices.split(',')\r\n",
        "    args.device_ids = [int(id_) for id_ in device_ids]\r\n",
        "    args.gpu = args.device_ids[0]"
      ],
      "outputs": [],
      "metadata": {
        "id": "k_BCYODAwKl9"
      }
    },
    {
      "cell_type": "code",
      "execution_count": 6,
      "source": [
        "# Set augments by using data name\r\n",
        "data_parser = {\r\n",
        "    'ETTh1':{'data':'ETTh1.csv','T':'OT','M':[7,7,7],'S':[1,1,1],'MS':[7,7,1]},\r\n",
        "    'ETTh2':{'data':'ETTh2.csv','T':'OT','M':[7,7,7],'S':[1,1,1],'MS':[7,7,1]},\r\n",
        "    'ETTm1':{'data':'ETTm1.csv','T':'OT','M':[7,7,7],'S':[1,1,1],'MS':[7,7,1]},\r\n",
        "    'ETTm2':{'data':'ETTm2.csv','T':'OT','M':[7,7,7],'S':[1,1,1],'MS':[7,7,1]},\r\n",
        "}\r\n",
        "if args.data in data_parser.keys():\r\n",
        "    data_info = data_parser[args.data]\r\n",
        "    args.data_path = data_info['data']\r\n",
        "    args.target = data_info['T']\r\n",
        "    args.enc_in, args.dec_in, args.c_out = data_info[args.features]"
      ],
      "outputs": [],
      "metadata": {
        "id": "53o3pZ809p-a"
      }
    },
    {
      "cell_type": "code",
      "execution_count": 7,
      "source": [
        "args.detail_freq = args.freq\r\n",
        "args.freq = args.freq[-1:]"
      ],
      "outputs": [],
      "metadata": {
        "id": "yZ5Q2vyKwSfk"
      }
    },
    {
      "cell_type": "code",
      "execution_count": 8,
      "source": [
        "print('Args in experiment:')\r\n",
        "print(args)"
      ],
      "outputs": [
        {
          "output_type": "stream",
          "name": "stdout",
          "text": [
            "Args in experiment:\n",
            "{'model': 'informer', 'data': 'ETTh1', 'root_path': './ETDataset/ETT-small/', 'data_path': 'ETTh1.csv', 'features': 'MS', 'target': 'OT', 'freq': 'h', 'checkpoints': './informer_checkpoints', 'seq_len': 96, 'label_len': 48, 'pred_len': 24, 'enc_in': 7, 'dec_in': 7, 'c_out': 1, 'factor': 5, 'd_model': 1024, 'n_heads': 8, 'e_layers': 2, 'd_layers': 1, 'd_ff': 2048, 'dropout': 0.05, 'attn': 'prob', 'embed': 'timeF', 'activation': 'gelu', 'distil': True, 'output_attention': False, 'mix': True, 'padding': 0, 'batch_size': 32, 'learning_rate': 0.0001, 'loss': 'mse', 'lradj': 'type1', 'use_amp': False, 'num_workers': 0, 'itr': 1, 'train_epochs': 3, 'patience': 3, 'des': 'exp', 'use_gpu': True, 'gpu': 0, 'use_multi_gpu': False, 'devices': '0,1,2,3', 'detail_freq': 'h'}\n"
          ]
        }
      ],
      "metadata": {
        "colab": {
          "base_uri": "https://localhost:8080/"
        },
        "id": "ywY-umrw-mHO",
        "outputId": "9b2e2e8e-7025-46e6-e2d7-2d8c9ceeb381"
      }
    },
    {
      "cell_type": "code",
      "execution_count": 9,
      "source": [
        "Exp = Exp_Informer"
      ],
      "outputs": [],
      "metadata": {
        "id": "KVHZhRB4-on9"
      }
    },
    {
      "cell_type": "code",
      "execution_count": null,
      "source": [
        "for ii in range(args.itr):\r\n",
        "    # setting record of experiments\r\n",
        "    setting = '{}_{}_ft{}_sl{}_ll{}_pl{}_dm{}_nh{}_el{}_dl{}_df{}_at{}_fc{}_eb{}_dt{}_mx{}_{}_{}'.format(args.model, args.data, args.features, \r\n",
        "                args.seq_len, args.label_len, args.pred_len,\r\n",
        "                args.d_model, args.n_heads, args.e_layers, args.d_layers, args.d_ff, args.attn, args.factor, args.embed, args.distil, args.mix, args.des, ii)\r\n",
        "\r\n",
        "    # set experiments\r\n",
        "    exp = Exp(args)\r\n",
        "    \r\n",
        "    # train\r\n",
        "    print('>>>>>>>start training : {}>>>>>>>>>>>>>>>>>>>>>>>>>>'.format(setting))\r\n",
        "    exp.train(setting)\r\n",
        "    \r\n",
        "    # test\r\n",
        "    print('>>>>>>>testing : {}<<<<<<<<<<<<<<<<<<<<<<<<<<<<<<<<<'.format(setting))\r\n",
        "    exp.test(setting)\r\n",
        "\r\n",
        "    torch.cuda.empty_cache()"
      ],
      "outputs": [],
      "metadata": {
        "colab": {
          "base_uri": "https://localhost:8080/"
        },
        "id": "928tzaA2AA2g",
        "outputId": "c19f673a-02d1-4f4d-91c3-d0f25e600443"
      }
    },
    {
      "cell_type": "markdown",
      "source": [
        "## Prediction"
      ],
      "metadata": {
        "id": "CDHF-HerAE3u"
      }
    },
    {
      "cell_type": "code",
      "execution_count": 12,
      "source": [
        "import os\r\n",
        "\r\n",
        "# Rất lưu ý ở đây. Chỗ này rất hay lỗi do chương trình lưu khác. tới chỗ này đường dẫn dược đặt cố định nó khác\r\n",
        "\r\n",
        "# Muốn chạy dự đoán mô hình nào thì dán đường dẫn vào đây\r\n",
        "setting = 'informer_ETTh1_ftMS_sl96_ll48_pl24_dm1024_nh8_el2_dl1_df2048_atprob_fc5_ebtimeF_dtTrue_mxTrue_exp_0'\r\n",
        "\r\n",
        "# path = os.path.join(args.checkpoints,setting,'checkpoint.pth')"
      ],
      "outputs": [],
      "metadata": {
        "id": "s0YI1zx6ACiz"
      }
    },
    {
      "cell_type": "code",
      "execution_count": 13,
      "source": [
        "# If you already have a trained model, you can set the arguments and model path, then initialize a Experiment and use it to predict\r\n",
        "# Prediction is a sequence which is adjacent to the last date of the data, and does not exist in the data\r\n",
        "# If you want to get more information about prediction, you can refer to code `exp/exp_informer.py function predict()` and `data/data_loader.py class Dataset_Pred`\r\n",
        "\r\n",
        "exp = Exp(args)\r\n",
        "\r\n",
        "exp.predict(setting, True)"
      ],
      "outputs": [
        {
          "output_type": "stream",
          "name": "stdout",
          "text": [
            "Use GPU: cuda:0\n",
            "Thông tin về dữ liệu data_set 95/exp_informer.py\n",
            "\n"
          ]
        }
      ],
      "metadata": {
        "colab": {
          "base_uri": "https://localhost:8080/"
        },
        "id": "nTkluNNcyMJt",
        "outputId": "780767fe-6321-4081-e827-6701daeb375b"
      }
    },
    {
      "cell_type": "code",
      "execution_count": 14,
      "source": [
        "# the prediction will be saved in ./results/{setting}/real_prediction.npy\r\n",
        "import numpy as np\r\n",
        "\r\n",
        "prediction = np.load('./results/'+setting+'/real_prediction.npy')\r\n",
        "\r\n",
        "prediction.shape"
      ],
      "outputs": [
        {
          "output_type": "execute_result",
          "data": {
            "text/plain": [
              "(1, 24, 1)"
            ]
          },
          "metadata": {},
          "execution_count": 14
        }
      ],
      "metadata": {
        "colab": {
          "base_uri": "https://localhost:8080/"
        },
        "id": "KBCPbjGuzAZb",
        "outputId": "945dc447-88e8-4b08-b7e5-f0a0b486d138"
      }
    },
    {
      "cell_type": "markdown",
      "source": [
        "### More details about Prediction - prediction function"
      ],
      "metadata": {
        "id": "5yFuVkTV30_j"
      }
    },
    {
      "cell_type": "code",
      "execution_count": 16,
      "source": [
        "# here is the detailed code of function predict\r\n",
        "\r\n",
        "def predict(exp, setting, load=False):\r\n",
        "    pred_data, pred_loader = exp._get_data(flag='pred')\r\n",
        "        \r\n",
        "    if load:\r\n",
        "        path = os.path.join(exp.args.checkpoints, setting)\r\n",
        "        best_model_path = path+'/'+'checkpoint.pth'\r\n",
        "        exp.model.load_state_dict(torch.load(best_model_path))\r\n",
        "\r\n",
        "    exp.model.eval()\r\n",
        "        \r\n",
        "    preds = []\r\n",
        "        \r\n",
        "    for i, (batch_x,batch_y,batch_x_mark,batch_y_mark) in enumerate(pred_loader):\r\n",
        "        batch_x = batch_x.float().to(exp.device)\r\n",
        "        batch_y = batch_y.float()\r\n",
        "        batch_x_mark = batch_x_mark.float().to(exp.device)\r\n",
        "        batch_y_mark = batch_y_mark.float().to(exp.device)\r\n",
        "\r\n",
        "        # decoder input\r\n",
        "        if exp.args.padding==0:\r\n",
        "            dec_inp = torch.zeros([batch_y.shape[0], exp.args.pred_len, batch_y.shape[-1]]).float()\r\n",
        "        elif exp.args.padding==1:\r\n",
        "            dec_inp = torch.ones([batch_y.shape[0], exp.args.pred_len, batch_y.shape[-1]]).float()\r\n",
        "        else:\r\n",
        "            dec_inp = torch.zeros([batch_y.shape[0], exp.args.pred_len, batch_y.shape[-1]]).float()\r\n",
        "        dec_inp = torch.cat([batch_y[:,:exp.args.label_len,:], dec_inp], dim=1).float().to(exp.device)\r\n",
        "        # encoder - decoder\r\n",
        "        if exp.args.use_amp:\r\n",
        "            with torch.cuda.amp.autocast():\r\n",
        "                if exp.args.output_attention:\r\n",
        "                    outputs = exp.model(batch_x, batch_x_mark, dec_inp, batch_y_mark)[0]\r\n",
        "                else:\r\n",
        "                    outputs = exp.model(batch_x, batch_x_mark, dec_inp, batch_y_mark)\r\n",
        "        else:\r\n",
        "            if exp.args.output_attention:\r\n",
        "                outputs = exp.model(batch_x, batch_x_mark, dec_inp, batch_y_mark)[0]\r\n",
        "            else:\r\n",
        "                outputs = exp.model(batch_x, batch_x_mark, dec_inp, batch_y_mark)\r\n",
        "        f_dim = -1 if exp.args.features=='MS' else 0\r\n",
        "        batch_y = batch_y[:,-exp.args.pred_len:,f_dim:].to(exp.device)\r\n",
        "        \r\n",
        "        pred = outputs.detach().cpu().numpy()#.squeeze()\r\n",
        "        \r\n",
        "        preds.append(pred)\r\n",
        "\r\n",
        "    preds = np.array(preds)\r\n",
        "    preds = preds.reshape(-1, preds.shape[-2], preds.shape[-1])\r\n",
        "    \r\n",
        "    # result save\r\n",
        "    folder_path = './results/' + setting +'/'\r\n",
        "    if not os.path.exists(folder_path):\r\n",
        "        os.makedirs(folder_path)\r\n",
        "    \r\n",
        "    np.save(folder_path+'real_prediction.npy', preds)\r\n",
        "    \r\n",
        "    return preds\r\n"
      ],
      "outputs": [],
      "metadata": {
        "id": "Sv9AR_Aw030r"
      }
    },
    {
      "cell_type": "code",
      "execution_count": 17,
      "source": [
        "# you can also use this prediction function to get result\r\n",
        "prediction = predict(exp, setting, True)"
      ],
      "outputs": [
        {
          "output_type": "stream",
          "name": "stdout",
          "text": [
            "Thông tin về dữ liệu data_set 95/exp_informer.py\n",
            "\n"
          ]
        }
      ],
      "metadata": {
        "colab": {
          "base_uri": "https://localhost:8080/"
        },
        "id": "tVLWZL2a1pwB",
        "outputId": "421e9ae1-f024-42b6-c8cb-ed1d38c864cd"
      }
    },
    {
      "cell_type": "code",
      "execution_count": 18,
      "source": [
        "import matplotlib.pyplot as plt\r\n",
        "\r\n",
        "plt.figure()\r\n",
        "plt.plot(prediction[0,:,-1])\r\n",
        "plt.show()\r\n"
      ],
      "outputs": [
        {
          "output_type": "display_data",
          "data": {
            "text/plain": [
              "<Figure size 432x288 with 1 Axes>"
            ],
            "image/svg+xml": "<?xml version=\"1.0\" encoding=\"utf-8\" standalone=\"no\"?>\r\n<!DOCTYPE svg PUBLIC \"-//W3C//DTD SVG 1.1//EN\"\r\n  \"http://www.w3.org/Graphics/SVG/1.1/DTD/svg11.dtd\">\r\n<!-- Created with matplotlib (https://matplotlib.org/) -->\r\n<svg height=\"248.518125pt\" version=\"1.1\" viewBox=\"0 0 386.845313 248.518125\" width=\"386.845313pt\" xmlns=\"http://www.w3.org/2000/svg\" xmlns:xlink=\"http://www.w3.org/1999/xlink\">\r\n <defs>\r\n  <style type=\"text/css\">\r\n*{stroke-linecap:butt;stroke-linejoin:round;}\r\n  </style>\r\n </defs>\r\n <g id=\"figure_1\">\r\n  <g id=\"patch_1\">\r\n   <path d=\"M 0 248.518125 \r\nL 386.845313 248.518125 \r\nL 386.845313 0 \r\nL 0 0 \r\nz\r\n\" style=\"fill:none;\"/>\r\n  </g>\r\n  <g id=\"axes_1\">\r\n   <g id=\"patch_2\">\r\n    <path d=\"M 44.845313 224.64 \r\nL 379.645313 224.64 \r\nL 379.645313 7.2 \r\nL 44.845313 7.2 \r\nz\r\n\" style=\"fill:#ffffff;\"/>\r\n   </g>\r\n   <g id=\"matplotlib.axis_1\">\r\n    <g id=\"xtick_1\">\r\n     <g id=\"line2d_1\">\r\n      <defs>\r\n       <path d=\"M 0 0 \r\nL 0 3.5 \r\n\" id=\"ma880a6a130\" style=\"stroke:#000000;stroke-width:0.8;\"/>\r\n      </defs>\r\n      <g>\r\n       <use style=\"stroke:#000000;stroke-width:0.8;\" x=\"60.063494\" xlink:href=\"#ma880a6a130\" y=\"224.64\"/>\r\n      </g>\r\n     </g>\r\n     <g id=\"text_1\">\r\n      <!-- 0 -->\r\n      <defs>\r\n       <path d=\"M 31.78125 66.40625 \r\nQ 24.171875 66.40625 20.328125 58.90625 \r\nQ 16.5 51.421875 16.5 36.375 \r\nQ 16.5 21.390625 20.328125 13.890625 \r\nQ 24.171875 6.390625 31.78125 6.390625 \r\nQ 39.453125 6.390625 43.28125 13.890625 \r\nQ 47.125 21.390625 47.125 36.375 \r\nQ 47.125 51.421875 43.28125 58.90625 \r\nQ 39.453125 66.40625 31.78125 66.40625 \r\nz\r\nM 31.78125 74.21875 \r\nQ 44.046875 74.21875 50.515625 64.515625 \r\nQ 56.984375 54.828125 56.984375 36.375 \r\nQ 56.984375 17.96875 50.515625 8.265625 \r\nQ 44.046875 -1.421875 31.78125 -1.421875 \r\nQ 19.53125 -1.421875 13.0625 8.265625 \r\nQ 6.59375 17.96875 6.59375 36.375 \r\nQ 6.59375 54.828125 13.0625 64.515625 \r\nQ 19.53125 74.21875 31.78125 74.21875 \r\nz\r\n\" id=\"DejaVuSans-48\"/>\r\n      </defs>\r\n      <g transform=\"translate(56.882244 239.238438)scale(0.1 -0.1)\">\r\n       <use xlink:href=\"#DejaVuSans-48\"/>\r\n      </g>\r\n     </g>\r\n    </g>\r\n    <g id=\"xtick_2\">\r\n     <g id=\"line2d_2\">\r\n      <g>\r\n       <use style=\"stroke:#000000;stroke-width:0.8;\" x=\"126.229502\" xlink:href=\"#ma880a6a130\" y=\"224.64\"/>\r\n      </g>\r\n     </g>\r\n     <g id=\"text_2\">\r\n      <!-- 5 -->\r\n      <defs>\r\n       <path d=\"M 10.796875 72.90625 \r\nL 49.515625 72.90625 \r\nL 49.515625 64.59375 \r\nL 19.828125 64.59375 \r\nL 19.828125 46.734375 \r\nQ 21.96875 47.46875 24.109375 47.828125 \r\nQ 26.265625 48.1875 28.421875 48.1875 \r\nQ 40.625 48.1875 47.75 41.5 \r\nQ 54.890625 34.8125 54.890625 23.390625 \r\nQ 54.890625 11.625 47.5625 5.09375 \r\nQ 40.234375 -1.421875 26.90625 -1.421875 \r\nQ 22.3125 -1.421875 17.546875 -0.640625 \r\nQ 12.796875 0.140625 7.71875 1.703125 \r\nL 7.71875 11.625 \r\nQ 12.109375 9.234375 16.796875 8.0625 \r\nQ 21.484375 6.890625 26.703125 6.890625 \r\nQ 35.15625 6.890625 40.078125 11.328125 \r\nQ 45.015625 15.765625 45.015625 23.390625 \r\nQ 45.015625 31 40.078125 35.4375 \r\nQ 35.15625 39.890625 26.703125 39.890625 \r\nQ 22.75 39.890625 18.8125 39.015625 \r\nQ 14.890625 38.140625 10.796875 36.28125 \r\nz\r\n\" id=\"DejaVuSans-53\"/>\r\n      </defs>\r\n      <g transform=\"translate(123.048252 239.238438)scale(0.1 -0.1)\">\r\n       <use xlink:href=\"#DejaVuSans-53\"/>\r\n      </g>\r\n     </g>\r\n    </g>\r\n    <g id=\"xtick_3\">\r\n     <g id=\"line2d_3\">\r\n      <g>\r\n       <use style=\"stroke:#000000;stroke-width:0.8;\" x=\"192.39551\" xlink:href=\"#ma880a6a130\" y=\"224.64\"/>\r\n      </g>\r\n     </g>\r\n     <g id=\"text_3\">\r\n      <!-- 10 -->\r\n      <defs>\r\n       <path d=\"M 12.40625 8.296875 \r\nL 28.515625 8.296875 \r\nL 28.515625 63.921875 \r\nL 10.984375 60.40625 \r\nL 10.984375 69.390625 \r\nL 28.421875 72.90625 \r\nL 38.28125 72.90625 \r\nL 38.28125 8.296875 \r\nL 54.390625 8.296875 \r\nL 54.390625 0 \r\nL 12.40625 0 \r\nz\r\n\" id=\"DejaVuSans-49\"/>\r\n      </defs>\r\n      <g transform=\"translate(186.03301 239.238438)scale(0.1 -0.1)\">\r\n       <use xlink:href=\"#DejaVuSans-49\"/>\r\n       <use x=\"63.623047\" xlink:href=\"#DejaVuSans-48\"/>\r\n      </g>\r\n     </g>\r\n    </g>\r\n    <g id=\"xtick_4\">\r\n     <g id=\"line2d_4\">\r\n      <g>\r\n       <use style=\"stroke:#000000;stroke-width:0.8;\" x=\"258.561518\" xlink:href=\"#ma880a6a130\" y=\"224.64\"/>\r\n      </g>\r\n     </g>\r\n     <g id=\"text_4\">\r\n      <!-- 15 -->\r\n      <g transform=\"translate(252.199018 239.238438)scale(0.1 -0.1)\">\r\n       <use xlink:href=\"#DejaVuSans-49\"/>\r\n       <use x=\"63.623047\" xlink:href=\"#DejaVuSans-53\"/>\r\n      </g>\r\n     </g>\r\n    </g>\r\n    <g id=\"xtick_5\">\r\n     <g id=\"line2d_5\">\r\n      <g>\r\n       <use style=\"stroke:#000000;stroke-width:0.8;\" x=\"324.727526\" xlink:href=\"#ma880a6a130\" y=\"224.64\"/>\r\n      </g>\r\n     </g>\r\n     <g id=\"text_5\">\r\n      <!-- 20 -->\r\n      <defs>\r\n       <path d=\"M 19.1875 8.296875 \r\nL 53.609375 8.296875 \r\nL 53.609375 0 \r\nL 7.328125 0 \r\nL 7.328125 8.296875 \r\nQ 12.9375 14.109375 22.625 23.890625 \r\nQ 32.328125 33.6875 34.8125 36.53125 \r\nQ 39.546875 41.84375 41.421875 45.53125 \r\nQ 43.3125 49.21875 43.3125 52.78125 \r\nQ 43.3125 58.59375 39.234375 62.25 \r\nQ 35.15625 65.921875 28.609375 65.921875 \r\nQ 23.96875 65.921875 18.8125 64.3125 \r\nQ 13.671875 62.703125 7.8125 59.421875 \r\nL 7.8125 69.390625 \r\nQ 13.765625 71.78125 18.9375 73 \r\nQ 24.125 74.21875 28.421875 74.21875 \r\nQ 39.75 74.21875 46.484375 68.546875 \r\nQ 53.21875 62.890625 53.21875 53.421875 \r\nQ 53.21875 48.921875 51.53125 44.890625 \r\nQ 49.859375 40.875 45.40625 35.40625 \r\nQ 44.1875 33.984375 37.640625 27.21875 \r\nQ 31.109375 20.453125 19.1875 8.296875 \r\nz\r\n\" id=\"DejaVuSans-50\"/>\r\n      </defs>\r\n      <g transform=\"translate(318.365026 239.238438)scale(0.1 -0.1)\">\r\n       <use xlink:href=\"#DejaVuSans-50\"/>\r\n       <use x=\"63.623047\" xlink:href=\"#DejaVuSans-48\"/>\r\n      </g>\r\n     </g>\r\n    </g>\r\n   </g>\r\n   <g id=\"matplotlib.axis_2\">\r\n    <g id=\"ytick_1\">\r\n     <g id=\"line2d_6\">\r\n      <defs>\r\n       <path d=\"M 0 0 \r\nL -3.5 0 \r\n\" id=\"m28b6dc8487\" style=\"stroke:#000000;stroke-width:0.8;\"/>\r\n      </defs>\r\n      <g>\r\n       <use style=\"stroke:#000000;stroke-width:0.8;\" x=\"44.845313\" xlink:href=\"#m28b6dc8487\" y=\"218.498037\"/>\r\n      </g>\r\n     </g>\r\n     <g id=\"text_6\">\r\n      <!-- −0.50 -->\r\n      <defs>\r\n       <path d=\"M 10.59375 35.5 \r\nL 73.1875 35.5 \r\nL 73.1875 27.203125 \r\nL 10.59375 27.203125 \r\nz\r\n\" id=\"DejaVuSans-8722\"/>\r\n       <path d=\"M 10.6875 12.40625 \r\nL 21 12.40625 \r\nL 21 0 \r\nL 10.6875 0 \r\nz\r\n\" id=\"DejaVuSans-46\"/>\r\n      </defs>\r\n      <g transform=\"translate(7.2 222.297255)scale(0.1 -0.1)\">\r\n       <use xlink:href=\"#DejaVuSans-8722\"/>\r\n       <use x=\"83.789062\" xlink:href=\"#DejaVuSans-48\"/>\r\n       <use x=\"147.412109\" xlink:href=\"#DejaVuSans-46\"/>\r\n       <use x=\"179.199219\" xlink:href=\"#DejaVuSans-53\"/>\r\n       <use x=\"242.822266\" xlink:href=\"#DejaVuSans-48\"/>\r\n      </g>\r\n     </g>\r\n    </g>\r\n    <g id=\"ytick_2\">\r\n     <g id=\"line2d_7\">\r\n      <g>\r\n       <use style=\"stroke:#000000;stroke-width:0.8;\" x=\"44.845313\" xlink:href=\"#m28b6dc8487\" y=\"187.732685\"/>\r\n      </g>\r\n     </g>\r\n     <g id=\"text_7\">\r\n      <!-- −0.45 -->\r\n      <defs>\r\n       <path d=\"M 37.796875 64.3125 \r\nL 12.890625 25.390625 \r\nL 37.796875 25.390625 \r\nz\r\nM 35.203125 72.90625 \r\nL 47.609375 72.90625 \r\nL 47.609375 25.390625 \r\nL 58.015625 25.390625 \r\nL 58.015625 17.1875 \r\nL 47.609375 17.1875 \r\nL 47.609375 0 \r\nL 37.796875 0 \r\nL 37.796875 17.1875 \r\nL 4.890625 17.1875 \r\nL 4.890625 26.703125 \r\nz\r\n\" id=\"DejaVuSans-52\"/>\r\n      </defs>\r\n      <g transform=\"translate(7.2 191.531903)scale(0.1 -0.1)\">\r\n       <use xlink:href=\"#DejaVuSans-8722\"/>\r\n       <use x=\"83.789062\" xlink:href=\"#DejaVuSans-48\"/>\r\n       <use x=\"147.412109\" xlink:href=\"#DejaVuSans-46\"/>\r\n       <use x=\"179.199219\" xlink:href=\"#DejaVuSans-52\"/>\r\n       <use x=\"242.822266\" xlink:href=\"#DejaVuSans-53\"/>\r\n      </g>\r\n     </g>\r\n    </g>\r\n    <g id=\"ytick_3\">\r\n     <g id=\"line2d_8\">\r\n      <g>\r\n       <use style=\"stroke:#000000;stroke-width:0.8;\" x=\"44.845313\" xlink:href=\"#m28b6dc8487\" y=\"156.967332\"/>\r\n      </g>\r\n     </g>\r\n     <g id=\"text_8\">\r\n      <!-- −0.40 -->\r\n      <g transform=\"translate(7.2 160.766551)scale(0.1 -0.1)\">\r\n       <use xlink:href=\"#DejaVuSans-8722\"/>\r\n       <use x=\"83.789062\" xlink:href=\"#DejaVuSans-48\"/>\r\n       <use x=\"147.412109\" xlink:href=\"#DejaVuSans-46\"/>\r\n       <use x=\"179.199219\" xlink:href=\"#DejaVuSans-52\"/>\r\n       <use x=\"242.822266\" xlink:href=\"#DejaVuSans-48\"/>\r\n      </g>\r\n     </g>\r\n    </g>\r\n    <g id=\"ytick_4\">\r\n     <g id=\"line2d_9\">\r\n      <g>\r\n       <use style=\"stroke:#000000;stroke-width:0.8;\" x=\"44.845313\" xlink:href=\"#m28b6dc8487\" y=\"126.20198\"/>\r\n      </g>\r\n     </g>\r\n     <g id=\"text_9\">\r\n      <!-- −0.35 -->\r\n      <defs>\r\n       <path d=\"M 40.578125 39.3125 \r\nQ 47.65625 37.796875 51.625 33 \r\nQ 55.609375 28.21875 55.609375 21.1875 \r\nQ 55.609375 10.40625 48.1875 4.484375 \r\nQ 40.765625 -1.421875 27.09375 -1.421875 \r\nQ 22.515625 -1.421875 17.65625 -0.515625 \r\nQ 12.796875 0.390625 7.625 2.203125 \r\nL 7.625 11.71875 \r\nQ 11.71875 9.328125 16.59375 8.109375 \r\nQ 21.484375 6.890625 26.8125 6.890625 \r\nQ 36.078125 6.890625 40.9375 10.546875 \r\nQ 45.796875 14.203125 45.796875 21.1875 \r\nQ 45.796875 27.640625 41.28125 31.265625 \r\nQ 36.765625 34.90625 28.71875 34.90625 \r\nL 20.21875 34.90625 \r\nL 20.21875 43.015625 \r\nL 29.109375 43.015625 \r\nQ 36.375 43.015625 40.234375 45.921875 \r\nQ 44.09375 48.828125 44.09375 54.296875 \r\nQ 44.09375 59.90625 40.109375 62.90625 \r\nQ 36.140625 65.921875 28.71875 65.921875 \r\nQ 24.65625 65.921875 20.015625 65.03125 \r\nQ 15.375 64.15625 9.8125 62.3125 \r\nL 9.8125 71.09375 \r\nQ 15.4375 72.65625 20.34375 73.4375 \r\nQ 25.25 74.21875 29.59375 74.21875 \r\nQ 40.828125 74.21875 47.359375 69.109375 \r\nQ 53.90625 64.015625 53.90625 55.328125 \r\nQ 53.90625 49.265625 50.4375 45.09375 \r\nQ 46.96875 40.921875 40.578125 39.3125 \r\nz\r\n\" id=\"DejaVuSans-51\"/>\r\n      </defs>\r\n      <g transform=\"translate(7.2 130.001199)scale(0.1 -0.1)\">\r\n       <use xlink:href=\"#DejaVuSans-8722\"/>\r\n       <use x=\"83.789062\" xlink:href=\"#DejaVuSans-48\"/>\r\n       <use x=\"147.412109\" xlink:href=\"#DejaVuSans-46\"/>\r\n       <use x=\"179.199219\" xlink:href=\"#DejaVuSans-51\"/>\r\n       <use x=\"242.822266\" xlink:href=\"#DejaVuSans-53\"/>\r\n      </g>\r\n     </g>\r\n    </g>\r\n    <g id=\"ytick_5\">\r\n     <g id=\"line2d_10\">\r\n      <g>\r\n       <use style=\"stroke:#000000;stroke-width:0.8;\" x=\"44.845313\" xlink:href=\"#m28b6dc8487\" y=\"95.436628\"/>\r\n      </g>\r\n     </g>\r\n     <g id=\"text_10\">\r\n      <!-- −0.30 -->\r\n      <g transform=\"translate(7.2 99.235847)scale(0.1 -0.1)\">\r\n       <use xlink:href=\"#DejaVuSans-8722\"/>\r\n       <use x=\"83.789062\" xlink:href=\"#DejaVuSans-48\"/>\r\n       <use x=\"147.412109\" xlink:href=\"#DejaVuSans-46\"/>\r\n       <use x=\"179.199219\" xlink:href=\"#DejaVuSans-51\"/>\r\n       <use x=\"242.822266\" xlink:href=\"#DejaVuSans-48\"/>\r\n      </g>\r\n     </g>\r\n    </g>\r\n    <g id=\"ytick_6\">\r\n     <g id=\"line2d_11\">\r\n      <g>\r\n       <use style=\"stroke:#000000;stroke-width:0.8;\" x=\"44.845313\" xlink:href=\"#m28b6dc8487\" y=\"64.671276\"/>\r\n      </g>\r\n     </g>\r\n     <g id=\"text_11\">\r\n      <!-- −0.25 -->\r\n      <g transform=\"translate(7.2 68.470495)scale(0.1 -0.1)\">\r\n       <use xlink:href=\"#DejaVuSans-8722\"/>\r\n       <use x=\"83.789062\" xlink:href=\"#DejaVuSans-48\"/>\r\n       <use x=\"147.412109\" xlink:href=\"#DejaVuSans-46\"/>\r\n       <use x=\"179.199219\" xlink:href=\"#DejaVuSans-50\"/>\r\n       <use x=\"242.822266\" xlink:href=\"#DejaVuSans-53\"/>\r\n      </g>\r\n     </g>\r\n    </g>\r\n    <g id=\"ytick_7\">\r\n     <g id=\"line2d_12\">\r\n      <g>\r\n       <use style=\"stroke:#000000;stroke-width:0.8;\" x=\"44.845313\" xlink:href=\"#m28b6dc8487\" y=\"33.905924\"/>\r\n      </g>\r\n     </g>\r\n     <g id=\"text_12\">\r\n      <!-- −0.20 -->\r\n      <g transform=\"translate(7.2 37.705143)scale(0.1 -0.1)\">\r\n       <use xlink:href=\"#DejaVuSans-8722\"/>\r\n       <use x=\"83.789062\" xlink:href=\"#DejaVuSans-48\"/>\r\n       <use x=\"147.412109\" xlink:href=\"#DejaVuSans-46\"/>\r\n       <use x=\"179.199219\" xlink:href=\"#DejaVuSans-50\"/>\r\n       <use x=\"242.822266\" xlink:href=\"#DejaVuSans-48\"/>\r\n      </g>\r\n     </g>\r\n    </g>\r\n   </g>\r\n   <g id=\"line2d_13\">\r\n    <path clip-path=\"url(#p589a558457)\" d=\"M 60.063494 175.288228 \r\nL 73.296696 147.034823 \r\nL 86.529897 192.692277 \r\nL 99.763099 208.846455 \r\nL 112.996301 210.600702 \r\nL 126.229502 214.756364 \r\nL 139.462704 186.317328 \r\nL 152.695905 200.148593 \r\nL 165.929107 185.475871 \r\nL 179.162309 198.036874 \r\nL 192.39551 168.072097 \r\nL 205.628712 185.821058 \r\nL 218.861913 193.250528 \r\nL 232.095115 197.265981 \r\nL 245.328316 198.322189 \r\nL 258.561518 75.61364 \r\nL 271.79472 55.953674 \r\nL 285.027921 39.705809 \r\nL 298.261123 48.548171 \r\nL 311.494324 38.992257 \r\nL 324.727526 17.083636 \r\nL 337.960728 28.317531 \r\nL 351.193929 23.218473 \r\nL 364.427131 23.790753 \r\n\" style=\"fill:none;stroke:#1f77b4;stroke-linecap:square;stroke-width:1.5;\"/>\r\n   </g>\r\n   <g id=\"patch_3\">\r\n    <path d=\"M 44.845313 224.64 \r\nL 44.845313 7.2 \r\n\" style=\"fill:none;stroke:#000000;stroke-linecap:square;stroke-linejoin:miter;stroke-width:0.8;\"/>\r\n   </g>\r\n   <g id=\"patch_4\">\r\n    <path d=\"M 379.645313 224.64 \r\nL 379.645313 7.2 \r\n\" style=\"fill:none;stroke:#000000;stroke-linecap:square;stroke-linejoin:miter;stroke-width:0.8;\"/>\r\n   </g>\r\n   <g id=\"patch_5\">\r\n    <path d=\"M 44.845313 224.64 \r\nL 379.645313 224.64 \r\n\" style=\"fill:none;stroke:#000000;stroke-linecap:square;stroke-linejoin:miter;stroke-width:0.8;\"/>\r\n   </g>\r\n   <g id=\"patch_6\">\r\n    <path d=\"M 44.845313 7.2 \r\nL 379.645313 7.2 \r\n\" style=\"fill:none;stroke:#000000;stroke-linecap:square;stroke-linejoin:miter;stroke-width:0.8;\"/>\r\n   </g>\r\n  </g>\r\n </g>\r\n <defs>\r\n  <clipPath id=\"p589a558457\">\r\n   <rect height=\"217.44\" width=\"334.8\" x=\"44.845313\" y=\"7.2\"/>\r\n  </clipPath>\r\n </defs>\r\n</svg>\r\n",
            "image/png": "[encoded data removed]"
          },
          "metadata": {
            "needs_background": "light"
          }
        }
      ],
      "metadata": {
        "colab": {
          "base_uri": "https://localhost:8080/",
          "height": 269
        },
        "id": "NwtZmQC71uc8",
        "outputId": "eec9d116-f122-42d9-8e02-c893ff764db0"
      }
    },
    {
      "cell_type": "code",
      "execution_count": 19,
      "source": [
        "print(len(prediction))"
      ],
      "outputs": [
        {
          "output_type": "stream",
          "name": "stdout",
          "text": [
            "1\n"
          ]
        }
      ],
      "metadata": {}
    },
    {
      "cell_type": "markdown",
      "source": [
        "### More details about Prediction - prediction dataset\n",
        "\n",
        "You can give a `root_path` and `data_path` of the data you want to forecast, and set `seq_len`, `label_len`, `pred_len` and other arguments as other Dataset. The difference is that you can set a more detailed freq such as `15min` or `3h` to generate the timestamp of prediction series.\n",
        "\n",
        "`Dataset_Pred` only has one sample (including `encoder_input: [1, seq_len, dim]`, `decoder_token: [1, label_len, dim]`, `encoder_input_timestamp: [1, seq_len, date_dim]`, `decoder_input_timstamp: [1, label_len+pred_len, date_dim]`). It will intercept the last sequence of the given data (seq_len data) to forecast the unseen future sequence (pred_len data)."
      ],
      "metadata": {
        "id": "EnePVyrW4I14"
      }
    },
    {
      "cell_type": "code",
      "execution_count": 20,
      "source": [
        "from data.data_loader import Dataset_Pred\r\n",
        "from torch.utils.data import DataLoader"
      ],
      "outputs": [],
      "metadata": {
        "id": "ZpXhNGp34Hf4"
      }
    },
    {
      "cell_type": "code",
      "execution_count": 21,
      "source": [
        "Data = Dataset_Pred\r\n",
        "timeenc = 0 if args.embed!='timeF' else 1\r\n",
        "flag = 'pred'; shuffle_flag = False; drop_last = False; batch_size = 1\r\n",
        "\r\n",
        "freq = args.detail_freq\r\n",
        "\r\n",
        "data_set = Data(\r\n",
        "    root_path=args.root_path,\r\n",
        "    data_path=args.data_path,\r\n",
        "    flag=flag,\r\n",
        "    size=[args.seq_len, args.label_len, args.pred_len],\r\n",
        "    features=args.features,\r\n",
        "    target=args.target,\r\n",
        "    timeenc=timeenc,\r\n",
        "    freq=freq\r\n",
        ")\r\n",
        "data_loader = DataLoader(\r\n",
        "    data_set,\r\n",
        "    batch_size=batch_size,\r\n",
        "    shuffle=shuffle_flag,\r\n",
        "    num_workers=args.num_workers,\r\n",
        "    drop_last=drop_last)"
      ],
      "outputs": [],
      "metadata": {
        "id": "j4Rpd1q74T8N"
      }
    },
    {
      "cell_type": "code",
      "execution_count": 22,
      "source": [
        "len(data_set), len(data_loader)"
      ],
      "outputs": [
        {
          "output_type": "execute_result",
          "data": {
            "text/plain": [
              "(1, 1)"
            ]
          },
          "metadata": {},
          "execution_count": 22
        }
      ],
      "metadata": {
        "id": "42C84BfY6UPV",
        "colab": {
          "base_uri": "https://localhost:8080/"
        },
        "outputId": "f5ccc428-db92-4708-e104-f5d29aa5adf9"
      }
    },
    {
      "cell_type": "markdown",
      "source": [
        "## Visualization"
      ],
      "metadata": {
        "id": "cNhEP_7sAgqC"
      }
    },
    {
      "cell_type": "code",
      "execution_count": 23,
      "source": [
        "# When we finished exp.train(setting) and exp.test(setting), we will get a trained model and the results of test experiment\r\n",
        "# The results of test experiment will be saved in ./results/{setting}/pred.npy (prediction of test dataset) and ./results/{setting}/true.npy (groundtruth of test dataset)\r\n",
        "\r\n",
        "preds = np.load('./results/'+setting+'/pred.npy')\r\n",
        "trues = np.load('./results/'+setting+'/true.npy')\r\n",
        "\r\n",
        "# [samples, pred_len, dimensions]\r\n",
        "preds.shape, trues.shape"
      ],
      "outputs": [
        {
          "output_type": "execute_result",
          "data": {
            "text/plain": [
              "((480, 24, 1), (480, 24, 1))"
            ]
          },
          "metadata": {},
          "execution_count": 23
        }
      ],
      "metadata": {
        "colab": {
          "base_uri": "https://localhost:8080/"
        },
        "id": "vMRk8VkQ2Iko",
        "outputId": "bbf3cd10-7294-472d-e330-21e00f20963a"
      }
    },
    {
      "cell_type": "code",
      "execution_count": 24,
      "source": [
        "import matplotlib.pyplot as plt\r\n",
        "import seaborn as sns"
      ],
      "outputs": [],
      "metadata": {
        "id": "ZEGhDOmxAeAb"
      }
    },
    {
      "cell_type": "code",
      "execution_count": 25,
      "source": [
        "# draw OT prediction\r\n",
        "plt.figure()\r\n",
        "plt.plot(trues[0,:,-1], label='Thực tế')\r\n",
        "plt.plot(preds[0,:,-1], label='Dự đoán')\r\n",
        "plt.legend()\r\n",
        "plt.show()\r\n",
        "\r\n"
      ],
      "outputs": [
        {
          "output_type": "display_data",
          "data": {
            "text/plain": [
              "<Figure size 432x288 with 1 Axes>"
            ],
            "image/svg+xml": "<?xml version=\"1.0\" encoding=\"utf-8\" standalone=\"no\"?>\r\n<!DOCTYPE svg PUBLIC \"-//W3C//DTD SVG 1.1//EN\"\r\n  \"http://www.w3.org/Graphics/SVG/1.1/DTD/svg11.dtd\">\r\n<!-- Created with matplotlib (https://matplotlib.org/) -->\r\n<svg height=\"248.518125pt\" version=\"1.1\" viewBox=\"0 0 380.482813 248.518125\" width=\"380.482813pt\" xmlns=\"http://www.w3.org/2000/svg\" xmlns:xlink=\"http://www.w3.org/1999/xlink\">\r\n <defs>\r\n  <style type=\"text/css\">\r\n*{stroke-linecap:butt;stroke-linejoin:round;}\r\n  </style>\r\n </defs>\r\n <g id=\"figure_1\">\r\n  <g id=\"patch_1\">\r\n   <path d=\"M -0 248.518125 \r\nL 380.482813 248.518125 \r\nL 380.482813 0 \r\nL -0 0 \r\nz\r\n\" style=\"fill:none;\"/>\r\n  </g>\r\n  <g id=\"axes_1\">\r\n   <g id=\"patch_2\">\r\n    <path d=\"M 38.482813 224.64 \r\nL 373.282813 224.64 \r\nL 373.282813 7.2 \r\nL 38.482813 7.2 \r\nz\r\n\" style=\"fill:#ffffff;\"/>\r\n   </g>\r\n   <g id=\"matplotlib.axis_1\">\r\n    <g id=\"xtick_1\">\r\n     <g id=\"line2d_1\">\r\n      <defs>\r\n       <path d=\"M 0 0 \r\nL 0 3.5 \r\n\" id=\"mdcea88e10e\" style=\"stroke:#000000;stroke-width:0.8;\"/>\r\n      </defs>\r\n      <g>\r\n       <use style=\"stroke:#000000;stroke-width:0.8;\" x=\"53.700994\" xlink:href=\"#mdcea88e10e\" y=\"224.64\"/>\r\n      </g>\r\n     </g>\r\n     <g id=\"text_1\">\r\n      <!-- 0 -->\r\n      <defs>\r\n       <path d=\"M 31.78125 66.40625 \r\nQ 24.171875 66.40625 20.328125 58.90625 \r\nQ 16.5 51.421875 16.5 36.375 \r\nQ 16.5 21.390625 20.328125 13.890625 \r\nQ 24.171875 6.390625 31.78125 6.390625 \r\nQ 39.453125 6.390625 43.28125 13.890625 \r\nQ 47.125 21.390625 47.125 36.375 \r\nQ 47.125 51.421875 43.28125 58.90625 \r\nQ 39.453125 66.40625 31.78125 66.40625 \r\nz\r\nM 31.78125 74.21875 \r\nQ 44.046875 74.21875 50.515625 64.515625 \r\nQ 56.984375 54.828125 56.984375 36.375 \r\nQ 56.984375 17.96875 50.515625 8.265625 \r\nQ 44.046875 -1.421875 31.78125 -1.421875 \r\nQ 19.53125 -1.421875 13.0625 8.265625 \r\nQ 6.59375 17.96875 6.59375 36.375 \r\nQ 6.59375 54.828125 13.0625 64.515625 \r\nQ 19.53125 74.21875 31.78125 74.21875 \r\nz\r\n\" id=\"DejaVuSans-48\"/>\r\n      </defs>\r\n      <g transform=\"translate(50.519744 239.238437)scale(0.1 -0.1)\">\r\n       <use xlink:href=\"#DejaVuSans-48\"/>\r\n      </g>\r\n     </g>\r\n    </g>\r\n    <g id=\"xtick_2\">\r\n     <g id=\"line2d_2\">\r\n      <g>\r\n       <use style=\"stroke:#000000;stroke-width:0.8;\" x=\"119.867002\" xlink:href=\"#mdcea88e10e\" y=\"224.64\"/>\r\n      </g>\r\n     </g>\r\n     <g id=\"text_2\">\r\n      <!-- 5 -->\r\n      <defs>\r\n       <path d=\"M 10.796875 72.90625 \r\nL 49.515625 72.90625 \r\nL 49.515625 64.59375 \r\nL 19.828125 64.59375 \r\nL 19.828125 46.734375 \r\nQ 21.96875 47.46875 24.109375 47.828125 \r\nQ 26.265625 48.1875 28.421875 48.1875 \r\nQ 40.625 48.1875 47.75 41.5 \r\nQ 54.890625 34.8125 54.890625 23.390625 \r\nQ 54.890625 11.625 47.5625 5.09375 \r\nQ 40.234375 -1.421875 26.90625 -1.421875 \r\nQ 22.3125 -1.421875 17.546875 -0.640625 \r\nQ 12.796875 0.140625 7.71875 1.703125 \r\nL 7.71875 11.625 \r\nQ 12.109375 9.234375 16.796875 8.0625 \r\nQ 21.484375 6.890625 26.703125 6.890625 \r\nQ 35.15625 6.890625 40.078125 11.328125 \r\nQ 45.015625 15.765625 45.015625 23.390625 \r\nQ 45.015625 31 40.078125 35.4375 \r\nQ 35.15625 39.890625 26.703125 39.890625 \r\nQ 22.75 39.890625 18.8125 39.015625 \r\nQ 14.890625 38.140625 10.796875 36.28125 \r\nz\r\n\" id=\"DejaVuSans-53\"/>\r\n      </defs>\r\n      <g transform=\"translate(116.685752 239.238437)scale(0.1 -0.1)\">\r\n       <use xlink:href=\"#DejaVuSans-53\"/>\r\n      </g>\r\n     </g>\r\n    </g>\r\n    <g id=\"xtick_3\">\r\n     <g id=\"line2d_3\">\r\n      <g>\r\n       <use style=\"stroke:#000000;stroke-width:0.8;\" x=\"186.03301\" xlink:href=\"#mdcea88e10e\" y=\"224.64\"/>\r\n      </g>\r\n     </g>\r\n     <g id=\"text_3\">\r\n      <!-- 10 -->\r\n      <defs>\r\n       <path d=\"M 12.40625 8.296875 \r\nL 28.515625 8.296875 \r\nL 28.515625 63.921875 \r\nL 10.984375 60.40625 \r\nL 10.984375 69.390625 \r\nL 28.421875 72.90625 \r\nL 38.28125 72.90625 \r\nL 38.28125 8.296875 \r\nL 54.390625 8.296875 \r\nL 54.390625 0 \r\nL 12.40625 0 \r\nz\r\n\" id=\"DejaVuSans-49\"/>\r\n      </defs>\r\n      <g transform=\"translate(179.67051 239.238437)scale(0.1 -0.1)\">\r\n       <use xlink:href=\"#DejaVuSans-49\"/>\r\n       <use x=\"63.623047\" xlink:href=\"#DejaVuSans-48\"/>\r\n      </g>\r\n     </g>\r\n    </g>\r\n    <g id=\"xtick_4\">\r\n     <g id=\"line2d_4\">\r\n      <g>\r\n       <use style=\"stroke:#000000;stroke-width:0.8;\" x=\"252.199018\" xlink:href=\"#mdcea88e10e\" y=\"224.64\"/>\r\n      </g>\r\n     </g>\r\n     <g id=\"text_4\">\r\n      <!-- 15 -->\r\n      <g transform=\"translate(245.836518 239.238437)scale(0.1 -0.1)\">\r\n       <use xlink:href=\"#DejaVuSans-49\"/>\r\n       <use x=\"63.623047\" xlink:href=\"#DejaVuSans-53\"/>\r\n      </g>\r\n     </g>\r\n    </g>\r\n    <g id=\"xtick_5\">\r\n     <g id=\"line2d_5\">\r\n      <g>\r\n       <use style=\"stroke:#000000;stroke-width:0.8;\" x=\"318.365026\" xlink:href=\"#mdcea88e10e\" y=\"224.64\"/>\r\n      </g>\r\n     </g>\r\n     <g id=\"text_5\">\r\n      <!-- 20 -->\r\n      <defs>\r\n       <path d=\"M 19.1875 8.296875 \r\nL 53.609375 8.296875 \r\nL 53.609375 0 \r\nL 7.328125 0 \r\nL 7.328125 8.296875 \r\nQ 12.9375 14.109375 22.625 23.890625 \r\nQ 32.328125 33.6875 34.8125 36.53125 \r\nQ 39.546875 41.84375 41.421875 45.53125 \r\nQ 43.3125 49.21875 43.3125 52.78125 \r\nQ 43.3125 58.59375 39.234375 62.25 \r\nQ 35.15625 65.921875 28.609375 65.921875 \r\nQ 23.96875 65.921875 18.8125 64.3125 \r\nQ 13.671875 62.703125 7.8125 59.421875 \r\nL 7.8125 69.390625 \r\nQ 13.765625 71.78125 18.9375 73 \r\nQ 24.125 74.21875 28.421875 74.21875 \r\nQ 39.75 74.21875 46.484375 68.546875 \r\nQ 53.21875 62.890625 53.21875 53.421875 \r\nQ 53.21875 48.921875 51.53125 44.890625 \r\nQ 49.859375 40.875 45.40625 35.40625 \r\nQ 44.1875 33.984375 37.640625 27.21875 \r\nQ 31.109375 20.453125 19.1875 8.296875 \r\nz\r\n\" id=\"DejaVuSans-50\"/>\r\n      </defs>\r\n      <g transform=\"translate(312.002526 239.238437)scale(0.1 -0.1)\">\r\n       <use xlink:href=\"#DejaVuSans-50\"/>\r\n       <use x=\"63.623047\" xlink:href=\"#DejaVuSans-48\"/>\r\n      </g>\r\n     </g>\r\n    </g>\r\n   </g>\r\n   <g id=\"matplotlib.axis_2\">\r\n    <g id=\"ytick_1\">\r\n     <g id=\"line2d_6\">\r\n      <defs>\r\n       <path d=\"M 0 0 \r\nL -3.5 0 \r\n\" id=\"m64278d21d5\" style=\"stroke:#000000;stroke-width:0.8;\"/>\r\n      </defs>\r\n      <g>\r\n       <use style=\"stroke:#000000;stroke-width:0.8;\" x=\"38.482813\" xlink:href=\"#m64278d21d5\" y=\"195.012714\"/>\r\n      </g>\r\n     </g>\r\n     <g id=\"text_6\">\r\n      <!-- −0.7 -->\r\n      <defs>\r\n       <path d=\"M 10.59375 35.5 \r\nL 73.1875 35.5 \r\nL 73.1875 27.203125 \r\nL 10.59375 27.203125 \r\nz\r\n\" id=\"DejaVuSans-8722\"/>\r\n       <path d=\"M 10.6875 12.40625 \r\nL 21 12.40625 \r\nL 21 0 \r\nL 10.6875 0 \r\nz\r\n\" id=\"DejaVuSans-46\"/>\r\n       <path d=\"M 8.203125 72.90625 \r\nL 55.078125 72.90625 \r\nL 55.078125 68.703125 \r\nL 28.609375 0 \r\nL 18.3125 0 \r\nL 43.21875 64.59375 \r\nL 8.203125 64.59375 \r\nz\r\n\" id=\"DejaVuSans-55\"/>\r\n      </defs>\r\n      <g transform=\"translate(7.2 198.811933)scale(0.1 -0.1)\">\r\n       <use xlink:href=\"#DejaVuSans-8722\"/>\r\n       <use x=\"83.789062\" xlink:href=\"#DejaVuSans-48\"/>\r\n       <use x=\"147.412109\" xlink:href=\"#DejaVuSans-46\"/>\r\n       <use x=\"179.199219\" xlink:href=\"#DejaVuSans-55\"/>\r\n      </g>\r\n     </g>\r\n    </g>\r\n    <g id=\"ytick_2\">\r\n     <g id=\"line2d_7\">\r\n      <g>\r\n       <use style=\"stroke:#000000;stroke-width:0.8;\" x=\"38.482813\" xlink:href=\"#m64278d21d5\" y=\"151.194415\"/>\r\n      </g>\r\n     </g>\r\n     <g id=\"text_7\">\r\n      <!-- −0.6 -->\r\n      <defs>\r\n       <path d=\"M 33.015625 40.375 \r\nQ 26.375 40.375 22.484375 35.828125 \r\nQ 18.609375 31.296875 18.609375 23.390625 \r\nQ 18.609375 15.53125 22.484375 10.953125 \r\nQ 26.375 6.390625 33.015625 6.390625 \r\nQ 39.65625 6.390625 43.53125 10.953125 \r\nQ 47.40625 15.53125 47.40625 23.390625 \r\nQ 47.40625 31.296875 43.53125 35.828125 \r\nQ 39.65625 40.375 33.015625 40.375 \r\nz\r\nM 52.59375 71.296875 \r\nL 52.59375 62.3125 \r\nQ 48.875 64.0625 45.09375 64.984375 \r\nQ 41.3125 65.921875 37.59375 65.921875 \r\nQ 27.828125 65.921875 22.671875 59.328125 \r\nQ 17.53125 52.734375 16.796875 39.40625 \r\nQ 19.671875 43.65625 24.015625 45.921875 \r\nQ 28.375 48.1875 33.59375 48.1875 \r\nQ 44.578125 48.1875 50.953125 41.515625 \r\nQ 57.328125 34.859375 57.328125 23.390625 \r\nQ 57.328125 12.15625 50.6875 5.359375 \r\nQ 44.046875 -1.421875 33.015625 -1.421875 \r\nQ 20.359375 -1.421875 13.671875 8.265625 \r\nQ 6.984375 17.96875 6.984375 36.375 \r\nQ 6.984375 53.65625 15.1875 63.9375 \r\nQ 23.390625 74.21875 37.203125 74.21875 \r\nQ 40.921875 74.21875 44.703125 73.484375 \r\nQ 48.484375 72.75 52.59375 71.296875 \r\nz\r\n\" id=\"DejaVuSans-54\"/>\r\n      </defs>\r\n      <g transform=\"translate(7.2 154.993634)scale(0.1 -0.1)\">\r\n       <use xlink:href=\"#DejaVuSans-8722\"/>\r\n       <use x=\"83.789062\" xlink:href=\"#DejaVuSans-48\"/>\r\n       <use x=\"147.412109\" xlink:href=\"#DejaVuSans-46\"/>\r\n       <use x=\"179.199219\" xlink:href=\"#DejaVuSans-54\"/>\r\n      </g>\r\n     </g>\r\n    </g>\r\n    <g id=\"ytick_3\">\r\n     <g id=\"line2d_8\">\r\n      <g>\r\n       <use style=\"stroke:#000000;stroke-width:0.8;\" x=\"38.482813\" xlink:href=\"#m64278d21d5\" y=\"107.376116\"/>\r\n      </g>\r\n     </g>\r\n     <g id=\"text_8\">\r\n      <!-- −0.5 -->\r\n      <g transform=\"translate(7.2 111.175335)scale(0.1 -0.1)\">\r\n       <use xlink:href=\"#DejaVuSans-8722\"/>\r\n       <use x=\"83.789062\" xlink:href=\"#DejaVuSans-48\"/>\r\n       <use x=\"147.412109\" xlink:href=\"#DejaVuSans-46\"/>\r\n       <use x=\"179.199219\" xlink:href=\"#DejaVuSans-53\"/>\r\n      </g>\r\n     </g>\r\n    </g>\r\n    <g id=\"ytick_4\">\r\n     <g id=\"line2d_9\">\r\n      <g>\r\n       <use style=\"stroke:#000000;stroke-width:0.8;\" x=\"38.482813\" xlink:href=\"#m64278d21d5\" y=\"63.557817\"/>\r\n      </g>\r\n     </g>\r\n     <g id=\"text_9\">\r\n      <!-- −0.4 -->\r\n      <defs>\r\n       <path d=\"M 37.796875 64.3125 \r\nL 12.890625 25.390625 \r\nL 37.796875 25.390625 \r\nz\r\nM 35.203125 72.90625 \r\nL 47.609375 72.90625 \r\nL 47.609375 25.390625 \r\nL 58.015625 25.390625 \r\nL 58.015625 17.1875 \r\nL 47.609375 17.1875 \r\nL 47.609375 0 \r\nL 37.796875 0 \r\nL 37.796875 17.1875 \r\nL 4.890625 17.1875 \r\nL 4.890625 26.703125 \r\nz\r\n\" id=\"DejaVuSans-52\"/>\r\n      </defs>\r\n      <g transform=\"translate(7.2 67.357036)scale(0.1 -0.1)\">\r\n       <use xlink:href=\"#DejaVuSans-8722\"/>\r\n       <use x=\"83.789062\" xlink:href=\"#DejaVuSans-48\"/>\r\n       <use x=\"147.412109\" xlink:href=\"#DejaVuSans-46\"/>\r\n       <use x=\"179.199219\" xlink:href=\"#DejaVuSans-52\"/>\r\n      </g>\r\n     </g>\r\n    </g>\r\n    <g id=\"ytick_5\">\r\n     <g id=\"line2d_10\">\r\n      <g>\r\n       <use style=\"stroke:#000000;stroke-width:0.8;\" x=\"38.482813\" xlink:href=\"#m64278d21d5\" y=\"19.739518\"/>\r\n      </g>\r\n     </g>\r\n     <g id=\"text_10\">\r\n      <!-- −0.3 -->\r\n      <defs>\r\n       <path d=\"M 40.578125 39.3125 \r\nQ 47.65625 37.796875 51.625 33 \r\nQ 55.609375 28.21875 55.609375 21.1875 \r\nQ 55.609375 10.40625 48.1875 4.484375 \r\nQ 40.765625 -1.421875 27.09375 -1.421875 \r\nQ 22.515625 -1.421875 17.65625 -0.515625 \r\nQ 12.796875 0.390625 7.625 2.203125 \r\nL 7.625 11.71875 \r\nQ 11.71875 9.328125 16.59375 8.109375 \r\nQ 21.484375 6.890625 26.8125 6.890625 \r\nQ 36.078125 6.890625 40.9375 10.546875 \r\nQ 45.796875 14.203125 45.796875 21.1875 \r\nQ 45.796875 27.640625 41.28125 31.265625 \r\nQ 36.765625 34.90625 28.71875 34.90625 \r\nL 20.21875 34.90625 \r\nL 20.21875 43.015625 \r\nL 29.109375 43.015625 \r\nQ 36.375 43.015625 40.234375 45.921875 \r\nQ 44.09375 48.828125 44.09375 54.296875 \r\nQ 44.09375 59.90625 40.109375 62.90625 \r\nQ 36.140625 65.921875 28.71875 65.921875 \r\nQ 24.65625 65.921875 20.015625 65.03125 \r\nQ 15.375 64.15625 9.8125 62.3125 \r\nL 9.8125 71.09375 \r\nQ 15.4375 72.65625 20.34375 73.4375 \r\nQ 25.25 74.21875 29.59375 74.21875 \r\nQ 40.828125 74.21875 47.359375 69.109375 \r\nQ 53.90625 64.015625 53.90625 55.328125 \r\nQ 53.90625 49.265625 50.4375 45.09375 \r\nQ 46.96875 40.921875 40.578125 39.3125 \r\nz\r\n\" id=\"DejaVuSans-51\"/>\r\n      </defs>\r\n      <g transform=\"translate(7.2 23.538737)scale(0.1 -0.1)\">\r\n       <use xlink:href=\"#DejaVuSans-8722\"/>\r\n       <use x=\"83.789062\" xlink:href=\"#DejaVuSans-48\"/>\r\n       <use x=\"147.412109\" xlink:href=\"#DejaVuSans-46\"/>\r\n       <use x=\"179.199219\" xlink:href=\"#DejaVuSans-51\"/>\r\n      </g>\r\n     </g>\r\n    </g>\r\n   </g>\r\n   <g id=\"line2d_11\">\r\n    <path clip-path=\"url(#p1f01f6f86c)\" d=\"M 53.700994 94.457224 \r\nL 66.934196 80.362014 \r\nL 80.167397 69.815644 \r\nL 93.400599 73.314429 \r\nL 106.633801 73.314429 \r\nL 119.867002 62.768006 \r\nL 133.100204 69.815644 \r\nL 146.333405 59.269221 \r\nL 159.566607 73.314429 \r\nL 172.799809 69.815644 \r\nL 186.03301 76.863216 \r\nL 199.266212 59.269221 \r\nL 212.499413 27.630059 \r\nL 225.732615 20.582421 \r\nL 238.965816 17.083636 \r\nL 252.199018 24.131222 \r\nL 265.43222 52.221636 \r\nL 278.665421 87.409599 \r\nL 291.898623 101.454806 \r\nL 305.131824 105.003594 \r\nL 318.365026 119.048814 \r\nL 331.598228 119.048814 \r\nL 344.831429 136.642822 \r\nL 358.064631 136.642822 \r\n\" style=\"fill:none;stroke:#1f77b4;stroke-linecap:square;stroke-width:1.5;\"/>\r\n   </g>\r\n   <g id=\"line2d_12\">\r\n    <path clip-path=\"url(#p1f01f6f86c)\" d=\"M 53.700994 165.087393 \r\nL 66.934196 161.178742 \r\nL 80.167397 162.870284 \r\nL 93.400599 167.92882 \r\nL 106.633801 165.527529 \r\nL 119.867002 165.2704 \r\nL 133.100204 204.148852 \r\nL 146.333405 166.87463 \r\nL 159.566607 160.280893 \r\nL 172.799809 177.494965 \r\nL 186.03301 175.213006 \r\nL 199.266212 188.094433 \r\nL 212.499413 187.256994 \r\nL 225.732615 183.628508 \r\nL 238.965816 180.904793 \r\nL 252.199018 151.180897 \r\nL 265.43222 133.720168 \r\nL 278.665421 189.403532 \r\nL 291.898623 203.451822 \r\nL 305.131824 164.132659 \r\nL 318.365026 211.46558 \r\nL 331.598228 212.30302 \r\nL 344.831429 212.996942 \r\nL 358.064631 214.756364 \r\n\" style=\"fill:none;stroke:#ff7f0e;stroke-linecap:square;stroke-width:1.5;\"/>\r\n   </g>\r\n   <g id=\"patch_3\">\r\n    <path d=\"M 38.482813 224.64 \r\nL 38.482813 7.2 \r\n\" style=\"fill:none;stroke:#000000;stroke-linecap:square;stroke-linejoin:miter;stroke-width:0.8;\"/>\r\n   </g>\r\n   <g id=\"patch_4\">\r\n    <path d=\"M 373.282813 224.64 \r\nL 373.282813 7.2 \r\n\" style=\"fill:none;stroke:#000000;stroke-linecap:square;stroke-linejoin:miter;stroke-width:0.8;\"/>\r\n   </g>\r\n   <g id=\"patch_5\">\r\n    <path d=\"M 38.482813 224.64 \r\nL 373.282813 224.64 \r\n\" style=\"fill:none;stroke:#000000;stroke-linecap:square;stroke-linejoin:miter;stroke-width:0.8;\"/>\r\n   </g>\r\n   <g id=\"patch_6\">\r\n    <path d=\"M 38.482813 7.2 \r\nL 373.282813 7.2 \r\n\" style=\"fill:none;stroke:#000000;stroke-linecap:square;stroke-linejoin:miter;stroke-width:0.8;\"/>\r\n   </g>\r\n   <g id=\"legend_1\">\r\n    <g id=\"patch_7\">\r\n     <path d=\"M 292.134375 45.323437 \r\nL 366.282813 45.323437 \r\nQ 368.282813 45.323437 368.282813 43.323437 \r\nL 368.282813 14.2 \r\nQ 368.282813 12.2 366.282813 12.2 \r\nL 292.134375 12.2 \r\nQ 290.134375 12.2 290.134375 14.2 \r\nL 290.134375 43.323437 \r\nQ 290.134375 45.323437 292.134375 45.323437 \r\nz\r\n\" style=\"fill:#ffffff;opacity:0.8;stroke:#cccccc;stroke-linejoin:miter;\"/>\r\n    </g>\r\n    <g id=\"line2d_13\">\r\n     <path d=\"M 294.134375 20.914062 \r\nL 314.134375 20.914062 \r\n\" style=\"fill:none;stroke:#1f77b4;stroke-linecap:square;stroke-width:1.5;\"/>\r\n    </g>\r\n    <g id=\"line2d_14\"/>\r\n    <g id=\"text_11\">\r\n     <!-- Thực tế -->\r\n     <defs>\r\n      <path d=\"M -0.296875 72.90625 \r\nL 61.375 72.90625 \r\nL 61.375 64.59375 \r\nL 35.5 64.59375 \r\nL 35.5 0 \r\nL 25.59375 0 \r\nL 25.59375 64.59375 \r\nL -0.296875 64.59375 \r\nz\r\n\" id=\"DejaVuSans-84\"/>\r\n      <path d=\"M 54.890625 33.015625 \r\nL 54.890625 0 \r\nL 45.90625 0 \r\nL 45.90625 32.71875 \r\nQ 45.90625 40.484375 42.875 44.328125 \r\nQ 39.84375 48.1875 33.796875 48.1875 \r\nQ 26.515625 48.1875 22.3125 43.546875 \r\nQ 18.109375 38.921875 18.109375 30.90625 \r\nL 18.109375 0 \r\nL 9.078125 0 \r\nL 9.078125 75.984375 \r\nL 18.109375 75.984375 \r\nL 18.109375 46.1875 \r\nQ 21.34375 51.125 25.703125 53.5625 \r\nQ 30.078125 56 35.796875 56 \r\nQ 45.21875 56 50.046875 50.171875 \r\nQ 54.890625 44.34375 54.890625 33.015625 \r\nz\r\n\" id=\"DejaVuSans-104\"/>\r\n      <path d=\"M 48.34375 48.53125 \r\nL 48.34375 54.34375 \r\nQ 51.3125 52.140625 53.453125 51.09375 \r\nQ 55.609375 50.046875 57.125 50.046875 \r\nQ 59.375 50.046875 60.5 51.390625 \r\nQ 61.625 52.734375 61.625 55.359375 \r\nQ 61.625 56.921875 61.25 58.4375 \r\nQ 60.890625 59.953125 60.15625 61.46875 \r\nL 66.65625 61.46875 \r\nQ 67.140625 59.609375 67.375 57.953125 \r\nQ 67.625 56.296875 67.625 54.828125 \r\nQ 67.625 48.875 65.5 46.0625 \r\nQ 63.375 43.25 58.84375 43.25 \r\nQ 56.5 43.25 53.9375 44.546875 \r\nQ 51.375 45.84375 48.34375 48.53125 \r\nz\r\nM 8.59375 21.578125 \r\nL 8.59375 54.6875 \r\nL 17.578125 54.6875 \r\nL 17.578125 21.921875 \r\nQ 17.578125 14.15625 20.609375 10.265625 \r\nQ 23.640625 6.390625 29.6875 6.390625 \r\nQ 36.96875 6.390625 41.1875 11.03125 \r\nQ 45.40625 15.671875 45.40625 23.6875 \r\nL 45.40625 54.6875 \r\nL 54.390625 54.6875 \r\nL 54.390625 0 \r\nL 45.40625 0 \r\nL 45.40625 8.40625 \r\nQ 42.140625 3.421875 37.8125 1 \r\nQ 33.5 -1.421875 27.78125 -1.421875 \r\nQ 18.359375 -1.421875 13.46875 4.4375 \r\nQ 8.59375 10.296875 8.59375 21.578125 \r\nz\r\nM 31.203125 56 \r\nz\r\nM 26.421875 -6.890625 \r\nL 35.40625 -6.890625 \r\nL 35.40625 -18.3125 \r\nL 26.421875 -18.3125 \r\nz\r\n\" id=\"DejaVuSans-7921\"/>\r\n      <path d=\"M 48.78125 52.59375 \r\nL 48.78125 44.1875 \r\nQ 44.96875 46.296875 41.140625 47.34375 \r\nQ 37.3125 48.390625 33.40625 48.390625 \r\nQ 24.65625 48.390625 19.8125 42.84375 \r\nQ 14.984375 37.3125 14.984375 27.296875 \r\nQ 14.984375 17.28125 19.8125 11.734375 \r\nQ 24.65625 6.203125 33.40625 6.203125 \r\nQ 37.3125 6.203125 41.140625 7.25 \r\nQ 44.96875 8.296875 48.78125 10.40625 \r\nL 48.78125 2.09375 \r\nQ 45.015625 0.34375 40.984375 -0.53125 \r\nQ 36.96875 -1.421875 32.421875 -1.421875 \r\nQ 20.0625 -1.421875 12.78125 6.34375 \r\nQ 5.515625 14.109375 5.515625 27.296875 \r\nQ 5.515625 40.671875 12.859375 48.328125 \r\nQ 20.21875 56 33.015625 56 \r\nQ 37.15625 56 41.109375 55.140625 \r\nQ 45.0625 54.296875 48.78125 52.59375 \r\nz\r\n\" id=\"DejaVuSans-99\"/>\r\n      <path id=\"DejaVuSans-32\"/>\r\n      <path d=\"M 18.3125 70.21875 \r\nL 18.3125 54.6875 \r\nL 36.8125 54.6875 \r\nL 36.8125 47.703125 \r\nL 18.3125 47.703125 \r\nL 18.3125 18.015625 \r\nQ 18.3125 11.328125 20.140625 9.421875 \r\nQ 21.96875 7.515625 27.59375 7.515625 \r\nL 36.8125 7.515625 \r\nL 36.8125 0 \r\nL 27.59375 0 \r\nQ 17.1875 0 13.234375 3.875 \r\nQ 9.28125 7.765625 9.28125 18.015625 \r\nL 9.28125 47.703125 \r\nL 2.6875 47.703125 \r\nL 2.6875 54.6875 \r\nL 9.28125 54.6875 \r\nL 9.28125 70.21875 \r\nz\r\n\" id=\"DejaVuSans-116\"/>\r\n      <path d=\"M 27.25 74.609375 \r\nL 36.421875 74.609375 \r\nL 46.734375 61.625 \r\nL 39.9375 61.625 \r\nL 31.84375 70.3125 \r\nL 23.734375 61.625 \r\nL 16.9375 61.625 \r\nz\r\nM 52.296875 84.625 \r\nL 61.328125 84.625 \r\nL 50.203125 71.734375 \r\nL 42.71875 71.734375 \r\nz\r\nM 56.203125 29.59375 \r\nL 56.203125 25.203125 \r\nL 14.890625 25.203125 \r\nQ 15.484375 15.921875 20.484375 11.0625 \r\nQ 25.484375 6.203125 34.421875 6.203125 \r\nQ 39.59375 6.203125 44.453125 7.46875 \r\nQ 49.3125 8.734375 54.109375 11.28125 \r\nL 54.109375 2.78125 \r\nQ 49.265625 0.734375 44.1875 -0.34375 \r\nQ 39.109375 -1.421875 33.890625 -1.421875 \r\nQ 20.796875 -1.421875 13.15625 6.1875 \r\nQ 5.515625 13.8125 5.515625 26.8125 \r\nQ 5.515625 40.234375 12.765625 48.109375 \r\nQ 20.015625 56 32.328125 56 \r\nQ 43.359375 56 49.78125 48.890625 \r\nQ 56.203125 41.796875 56.203125 29.59375 \r\nz\r\nM 47.21875 32.234375 \r\nQ 47.125 39.59375 43.09375 43.984375 \r\nQ 39.0625 48.390625 32.421875 48.390625 \r\nQ 24.90625 48.390625 20.390625 44.140625 \r\nQ 15.875 39.890625 15.1875 32.171875 \r\nz\r\n\" id=\"DejaVuSans-7871\"/>\r\n     </defs>\r\n     <g transform=\"translate(322.134375 24.414062)scale(0.1 -0.1)\">\r\n      <use xlink:href=\"#DejaVuSans-84\"/>\r\n      <use x=\"61.083984\" xlink:href=\"#DejaVuSans-104\"/>\r\n      <use x=\"124.462891\" xlink:href=\"#DejaVuSans-7921\"/>\r\n      <use x=\"187.841797\" xlink:href=\"#DejaVuSans-99\"/>\r\n      <use x=\"242.822266\" xlink:href=\"#DejaVuSans-32\"/>\r\n      <use x=\"274.609375\" xlink:href=\"#DejaVuSans-116\"/>\r\n      <use x=\"313.818359\" xlink:href=\"#DejaVuSans-7871\"/>\r\n     </g>\r\n    </g>\r\n    <g id=\"line2d_15\">\r\n     <path d=\"M 294.134375 35.74375 \r\nL 314.134375 35.74375 \r\n\" style=\"fill:none;stroke:#ff7f0e;stroke-linecap:square;stroke-width:1.5;\"/>\r\n    </g>\r\n    <g id=\"line2d_16\"/>\r\n    <g id=\"text_12\">\r\n     <!-- Dự đoán -->\r\n     <defs>\r\n      <path d=\"M 19.671875 64.796875 \r\nL 19.671875 8.109375 \r\nL 31.59375 8.109375 \r\nQ 46.6875 8.109375 53.6875 14.9375 \r\nQ 60.6875 21.78125 60.6875 36.53125 \r\nQ 60.6875 51.171875 53.6875 57.984375 \r\nQ 46.6875 64.796875 31.59375 64.796875 \r\nz\r\nM 9.8125 72.90625 \r\nL 30.078125 72.90625 \r\nQ 51.265625 72.90625 61.171875 64.09375 \r\nQ 71.09375 55.28125 71.09375 36.53125 \r\nQ 71.09375 17.671875 61.125 8.828125 \r\nQ 51.171875 0 30.078125 0 \r\nL 9.8125 0 \r\nz\r\n\" id=\"DejaVuSans-68\"/>\r\n      <path d=\"M 45.40625 46.390625 \r\nL 45.40625 62.703125 \r\nL 29.5 62.703125 \r\nL 29.5 68.796875 \r\nL 45.40625 68.796875 \r\nL 45.40625 75.984375 \r\nL 54.390625 75.984375 \r\nL 54.390625 68.796875 \r\nL 61.921875 68.796875 \r\nL 61.921875 62.703125 \r\nL 54.390625 62.703125 \r\nL 54.390625 0 \r\nL 45.40625 0 \r\nL 45.40625 8.203125 \r\nQ 42.578125 3.328125 38.25 0.953125 \r\nQ 33.9375 -1.421875 27.875 -1.421875 \r\nQ 17.96875 -1.421875 11.734375 6.484375 \r\nQ 5.515625 14.40625 5.515625 27.296875 \r\nQ 5.515625 40.1875 11.734375 48.09375 \r\nQ 17.96875 56 27.875 56 \r\nQ 33.9375 56 38.25 53.625 \r\nQ 42.578125 51.265625 45.40625 46.390625 \r\nz\r\nM 14.796875 27.296875 \r\nQ 14.796875 17.390625 18.875 11.75 \r\nQ 22.953125 6.109375 30.078125 6.109375 \r\nQ 37.203125 6.109375 41.296875 11.75 \r\nQ 45.40625 17.390625 45.40625 27.296875 \r\nQ 45.40625 37.203125 41.296875 42.84375 \r\nQ 37.203125 48.484375 30.078125 48.484375 \r\nQ 22.953125 48.484375 18.875 42.84375 \r\nQ 14.796875 37.203125 14.796875 27.296875 \r\nz\r\n\" id=\"DejaVuSans-273\"/>\r\n      <path d=\"M 30.609375 48.390625 \r\nQ 23.390625 48.390625 19.1875 42.75 \r\nQ 14.984375 37.109375 14.984375 27.296875 \r\nQ 14.984375 17.484375 19.15625 11.84375 \r\nQ 23.34375 6.203125 30.609375 6.203125 \r\nQ 37.796875 6.203125 41.984375 11.859375 \r\nQ 46.1875 17.53125 46.1875 27.296875 \r\nQ 46.1875 37.015625 41.984375 42.703125 \r\nQ 37.796875 48.390625 30.609375 48.390625 \r\nz\r\nM 30.609375 56 \r\nQ 42.328125 56 49.015625 48.375 \r\nQ 55.71875 40.765625 55.71875 27.296875 \r\nQ 55.71875 13.875 49.015625 6.21875 \r\nQ 42.328125 -1.421875 30.609375 -1.421875 \r\nQ 18.84375 -1.421875 12.171875 6.21875 \r\nQ 5.515625 13.875 5.515625 27.296875 \r\nQ 5.515625 40.765625 12.171875 48.375 \r\nQ 18.84375 56 30.609375 56 \r\nz\r\n\" id=\"DejaVuSans-111\"/>\r\n      <path d=\"M 34.28125 27.484375 \r\nQ 23.390625 27.484375 19.1875 25 \r\nQ 14.984375 22.515625 14.984375 16.5 \r\nQ 14.984375 11.71875 18.140625 8.90625 \r\nQ 21.296875 6.109375 26.703125 6.109375 \r\nQ 34.1875 6.109375 38.703125 11.40625 \r\nQ 43.21875 16.703125 43.21875 25.484375 \r\nL 43.21875 27.484375 \r\nz\r\nM 52.203125 31.203125 \r\nL 52.203125 0 \r\nL 43.21875 0 \r\nL 43.21875 8.296875 \r\nQ 40.140625 3.328125 35.546875 0.953125 \r\nQ 30.953125 -1.421875 24.3125 -1.421875 \r\nQ 15.921875 -1.421875 10.953125 3.296875 \r\nQ 6 8.015625 6 15.921875 \r\nQ 6 25.140625 12.171875 29.828125 \r\nQ 18.359375 34.515625 30.609375 34.515625 \r\nL 43.21875 34.515625 \r\nL 43.21875 35.40625 \r\nQ 43.21875 41.609375 39.140625 45 \r\nQ 35.0625 48.390625 27.6875 48.390625 \r\nQ 23 48.390625 18.546875 47.265625 \r\nQ 14.109375 46.140625 10.015625 43.890625 \r\nL 10.015625 52.203125 \r\nQ 14.9375 54.109375 19.578125 55.046875 \r\nQ 24.21875 56 28.609375 56 \r\nQ 40.484375 56 46.34375 49.84375 \r\nQ 52.203125 43.703125 52.203125 31.203125 \r\nz\r\nM 35.796875 79.984375 \r\nL 45.515625 79.984375 \r\nL 29.59375 61.625 \r\nL 22.125 61.625 \r\nz\r\n\" id=\"DejaVuSans-225\"/>\r\n      <path d=\"M 54.890625 33.015625 \r\nL 54.890625 0 \r\nL 45.90625 0 \r\nL 45.90625 32.71875 \r\nQ 45.90625 40.484375 42.875 44.328125 \r\nQ 39.84375 48.1875 33.796875 48.1875 \r\nQ 26.515625 48.1875 22.3125 43.546875 \r\nQ 18.109375 38.921875 18.109375 30.90625 \r\nL 18.109375 0 \r\nL 9.078125 0 \r\nL 9.078125 54.6875 \r\nL 18.109375 54.6875 \r\nL 18.109375 46.1875 \r\nQ 21.34375 51.125 25.703125 53.5625 \r\nQ 30.078125 56 35.796875 56 \r\nQ 45.21875 56 50.046875 50.171875 \r\nQ 54.890625 44.34375 54.890625 33.015625 \r\nz\r\n\" id=\"DejaVuSans-110\"/>\r\n     </defs>\r\n     <g transform=\"translate(322.134375 39.24375)scale(0.1 -0.1)\">\r\n      <use xlink:href=\"#DejaVuSans-68\"/>\r\n      <use x=\"77.001953\" xlink:href=\"#DejaVuSans-7921\"/>\r\n      <use x=\"140.380859\" xlink:href=\"#DejaVuSans-32\"/>\r\n      <use x=\"172.167969\" xlink:href=\"#DejaVuSans-273\"/>\r\n      <use x=\"235.644531\" xlink:href=\"#DejaVuSans-111\"/>\r\n      <use x=\"296.826172\" xlink:href=\"#DejaVuSans-225\"/>\r\n      <use x=\"358.105469\" xlink:href=\"#DejaVuSans-110\"/>\r\n     </g>\r\n    </g>\r\n   </g>\r\n  </g>\r\n </g>\r\n <defs>\r\n  <clipPath id=\"p1f01f6f86c\">\r\n   <rect height=\"217.44\" width=\"334.8\" x=\"38.482813\" y=\"7.2\"/>\r\n  </clipPath>\r\n </defs>\r\n</svg>\r\n",
            "image/png": "[encoded data removed]"
          },
          "metadata": {
            "needs_background": "light"
          }
        }
      ],
      "metadata": {
        "colab": {
          "base_uri": "https://localhost:8080/",
          "height": 265
        },
        "id": "kyPuOPGAAjl3",
        "outputId": "8554f6f8-c13a-43e1-b04b-5f27823445d0"
      }
    },
    {
      "cell_type": "code",
      "execution_count": null,
      "source": [
        "# draw HUFL prediction\r\n",
        "plt.figure()\r\n",
        "plt.plot(trues[0,:,0], label='GroundTruth')\r\n",
        "plt.plot(preds[0,:,0], label='Prediction')\r\n",
        "plt.legend()\r\n",
        "plt.show()"
      ],
      "outputs": [],
      "metadata": {
        "colab": {
          "base_uri": "https://localhost:8080/",
          "height": 265
        },
        "id": "43MIgWfpMYIB",
        "outputId": "327f64b7-363c-44f9-c7c8-1f654911068c"
      }
    },
    {
      "cell_type": "code",
      "execution_count": null,
      "source": [
        "from data.data_loader import Dataset_ETT_hour\r\n",
        "from torch.utils.data import DataLoader\r\n",
        "\r\n",
        "Data = Dataset_ETT_hour\r\n",
        "timeenc = 0 if args.embed!='timeF' else 1\r\n",
        "flag = 'test'; shuffle_flag = False; drop_last = True; batch_size = 1\r\n",
        "\r\n",
        "data_set = Data(\r\n",
        "    root_path=args.root_path,\r\n",
        "    data_path=args.data_path,\r\n",
        "    flag=flag,\r\n",
        "    size=[args.seq_len, args.label_len, args.pred_len],\r\n",
        "    features=args.features,\r\n",
        "    timeenc=timeenc,\r\n",
        "    freq=args.freq\r\n",
        ")\r\n",
        "data_loader = DataLoader(\r\n",
        "    data_set,\r\n",
        "    batch_size=batch_size,\r\n",
        "    shuffle=shuffle_flag,\r\n",
        "    num_workers=args.num_workers,\r\n",
        "    drop_last=drop_last)"
      ],
      "outputs": [],
      "metadata": {
        "id": "hKmqhCfmt0xd"
      }
    },
    {
      "cell_type": "code",
      "execution_count": null,
      "source": [
        "import os\r\n",
        "\r\n",
        "args.output_attention = True\r\n",
        "\r\n",
        "exp = Exp(args)\r\n",
        "\r\n",
        "model = exp.model\r\n",
        "\r\n",
        "setting = 'informer_ETTh1_ftM_sl96_ll48_pl24_dm512_nh8_el2_dl1_df2048_atprob_fc5_ebtimeF_dtTrue_mxTrue_exp_0'\r\n",
        "path = os.path.join(args.checkpoints,setting,'checkpoint.pth')\r\n",
        "model.load_state_dict(torch.load(path))"
      ],
      "outputs": [],
      "metadata": {
        "colab": {
          "base_uri": "https://localhost:8080/"
        },
        "id": "iflTTl0quCoK",
        "outputId": "3708fc91-517e-4c83-e133-059381bde271"
      }
    },
    {
      "cell_type": "code",
      "execution_count": null,
      "source": [
        "# attention visualization\r\n",
        "idx = 0\r\n",
        "for i, (batch_x,batch_y,batch_x_mark,batch_y_mark) in enumerate(data_loader):\r\n",
        "    if i!=idx:\r\n",
        "        continue\r\n",
        "    batch_x = batch_x.float().to(exp.device)\r\n",
        "    batch_y = batch_y.float()\r\n",
        "\r\n",
        "    batch_x_mark = batch_x_mark.float().to(exp.device)\r\n",
        "    batch_y_mark = batch_y_mark.float().to(exp.device)\r\n",
        "    \r\n",
        "    dec_inp = torch.zeros_like(batch_y[:,-args.pred_len:,:]).float()\r\n",
        "    dec_inp = torch.cat([batch_y[:,:args.label_len,:], dec_inp], dim=1).float().to(exp.device)\r\n",
        "    \r\n",
        "    outputs,attn = model(batch_x, batch_x_mark, dec_inp, batch_y_mark)"
      ],
      "outputs": [],
      "metadata": {
        "id": "lDdzqm9HAk2C"
      }
    },
    {
      "cell_type": "code",
      "execution_count": null,
      "source": [
        "attn[0].shape, attn[1].shape #, attn[2].shape"
      ],
      "outputs": [],
      "metadata": {
        "colab": {
          "base_uri": "https://localhost:8080/"
        },
        "id": "hWef23vWAmUz",
        "outputId": "021eca83-e12f-402c-c87e-4fffa643d2f1"
      }
    },
    {
      "cell_type": "code",
      "execution_count": null,
      "source": [
        "layer = 0\r\n",
        "distil = 'Distil' if args.distil else 'NoDistil'\r\n",
        "for h in range(0,8):\r\n",
        "    plt.figure(figsize=[10,8])\r\n",
        "    plt.title('Informer, {}, attn:{} layer:{} head:{}'.format(distil, args.attn, layer, h))\r\n",
        "    A = attn[layer][0,h].detach().cpu().numpy()\r\n",
        "    ax = sns.heatmap(A, vmin=0, vmax=A.max()+0.01)\r\n",
        "    plt.show()"
      ],
      "outputs": [],
      "metadata": {
        "colab": {
          "base_uri": "https://localhost:8080/",
          "height": 1000
        },
        "id": "iZDH1fZgAnrl",
        "outputId": "991cae95-04a2-402d-f179-777e962f46fe"
      }
    },
    {
      "cell_type": "code",
      "execution_count": null,
      "source": [
        "layer = 1\r\n",
        "distil = 'Distil' if args.distil else 'NoDistil'\r\n",
        "for h in range(0,8):\r\n",
        "    plt.figure(figsize=[10,8])\r\n",
        "    plt.title('Informer, {}, attn:{} layer:{} head:{}'.format(distil, args.attn, layer, h))\r\n",
        "    A = attn[layer][0,h].detach().cpu().numpy()\r\n",
        "    ax = sns.heatmap(A, vmin=0, vmax=A.max()+0.01)\r\n",
        "    plt.show()"
      ],
      "outputs": [],
      "metadata": {
        "colab": {
          "base_uri": "https://localhost:8080/",
          "height": 1000
        },
        "id": "DQFGYE3KAozo",
        "outputId": "10489845-4e23-4b55-8509-edf50d77394d"
      }
    },
    {
      "cell_type": "markdown",
      "source": [
        "## Custom Data\n",
        "\n",
        "Custom data (xxx.csv) has to include at least 2 features: `date`(format: `YYYY-MM-DD hh:mm:ss`) and `target feature`.\n"
      ],
      "metadata": {
        "id": "Ew9vekI9Mw8f"
      }
    },
    {
      "cell_type": "code",
      "execution_count": null,
      "source": [
        "from data.data_loader import Dataset_Custom\r\n",
        "from torch.utils.data import DataLoader\r\n",
        "import pandas as pd\r\n",
        "import os"
      ],
      "outputs": [],
      "metadata": {
        "id": "qqQBJWHeMzP-"
      }
    },
    {
      "cell_type": "code",
      "execution_count": null,
      "source": [
        "# custom data: xxx.csv\r\n",
        "# data features: ['date', ...(other features), target feature]\r\n",
        "\r\n",
        "# we take ETTh2 as an example\r\n",
        "args.root_path = './ETDataset/ETT-small/'\r\n",
        "args.data_path = 'ETTh2.csv'\r\n",
        "\r\n",
        "df = pd.read_csv(os.path.join(args.root_path, args.data_path))"
      ],
      "outputs": [],
      "metadata": {
        "id": "5bFrfuw6Oxpi"
      }
    },
    {
      "cell_type": "code",
      "execution_count": null,
      "source": [
        "df.head()"
      ],
      "outputs": [],
      "metadata": {
        "id": "0--9JC0eO_WT",
        "colab": {
          "base_uri": "https://localhost:8080/",
          "height": 204
        },
        "outputId": "c8b9c2a3-0400-44d4-8a4e-85e42194ea59"
      }
    },
    {
      "cell_type": "code",
      "execution_count": null,
      "source": [
        "'''\r\n",
        "We set 'HULL' as target instead of 'OT'\r\n",
        "\r\n",
        "The following frequencies are supported:\r\n",
        "        Y   - yearly\r\n",
        "            alias: A\r\n",
        "        M   - monthly\r\n",
        "        W   - weekly\r\n",
        "        D   - daily\r\n",
        "        B   - business days\r\n",
        "        H   - hourly\r\n",
        "        T   - minutely\r\n",
        "            alias: min\r\n",
        "        S   - secondly\r\n",
        "'''\r\n",
        "\r\n",
        "args.target = 'HULL'\r\n",
        "args.freq = 'h'\r\n",
        "\r\n",
        "Data = Dataset_Custom\r\n",
        "timeenc = 0 if args.embed!='timeF' else 1\r\n",
        "flag = 'test'; shuffle_flag = False; drop_last = True; batch_size = 1\r\n",
        "\r\n",
        "data_set = Data(\r\n",
        "    root_path=args.root_path,\r\n",
        "    data_path=args.data_path,\r\n",
        "    flag=flag,\r\n",
        "    size=[args.seq_len, args.label_len, args.pred_len],\r\n",
        "    features=args.features,\r\n",
        "    timeenc=timeenc,\r\n",
        "    target=args.target, # HULL here\r\n",
        "    freq=args.freq # 'h': hourly, 't':minutely\r\n",
        ")\r\n",
        "data_loader = DataLoader(\r\n",
        "    data_set,\r\n",
        "    batch_size=batch_size,\r\n",
        "    shuffle=shuffle_flag,\r\n",
        "    num_workers=args.num_workers,\r\n",
        "    drop_last=drop_last)"
      ],
      "outputs": [],
      "metadata": {
        "id": "QmvRipRbPAbP"
      }
    },
    {
      "cell_type": "code",
      "execution_count": null,
      "source": [
        "batch_x,batch_y,batch_x_mark,batch_y_mark = data_set[0]"
      ],
      "outputs": [],
      "metadata": {
        "id": "IkNDT2jMPCUf"
      }
    },
    {
      "cell_type": "code",
      "execution_count": null,
      "source": [],
      "outputs": [],
      "metadata": {
        "id": "VUcvSLlkSFTx"
      }
    }
  ]
}